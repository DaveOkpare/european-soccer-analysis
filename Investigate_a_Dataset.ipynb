{
  "cells": [
    {
      "cell_type": "markdown",
      "metadata": {
        "id": "view-in-github",
        "colab_type": "text"
      },
      "source": [
        "<a href=\"https://colab.research.google.com/github/DaveOkpare/european-soccer-analysis/blob/main/Investigate_a_Dataset.ipynb\" target=\"_parent\"><img src=\"https://colab.research.google.com/assets/colab-badge.svg\" alt=\"Open In Colab\"/></a>"
      ]
    },
    {
      "cell_type": "markdown",
      "metadata": {
        "id": "Gv_S-7iS0Syy"
      },
      "source": [
        "# Project: Investigate a Dataset - Soccer Database\n",
        "\n",
        "## Table of Contents\n",
        "<ul>\n",
        "<li><a href=\"#intro\">Introduction</a></li>\n",
        "<li><a href=\"#wrangling\">Data Wrangling</a></li>\n",
        "<li><a href=\"#eda\">Exploratory Data Analysis</a></li>\n",
        "<li><a href=\"#conclusions\">Conclusions</a></li>\n",
        "</ul>"
      ]
    },
    {
      "cell_type": "markdown",
      "metadata": {
        "id": "YPC7A7da0Sy3"
      },
      "source": [
        "<a id='intro'></a>\n",
        "## Introduction\n",
        "\n",
        "### Dataset Description \n",
        "\n",
        "The project focuses on the soccer database comes from\n",
        "Kaggle and it iss well suited for data analysis and machine learning. It contains data for soccer matches, players, and teams from several European countries from 2008 to 2016. \n",
        "\n",
        "* The database is stored in a SQLite database. I have extracted the dataset using the [OpenDataset](https://github.com/JovianML/opendatasets) library which downloads the dataset from Kaggle. \n",
        "\n",
        "  You can obtain API token from [Kaggle](https://kaggle.com/) to download the dataset from this notebook.\n",
        "\n",
        "* Related tables in the dataset are merged together using SQL joins. \n",
        "\n",
        "* Some column titles should be self-explanatory, and others\n",
        "you’ll have to look up the [dataset source](https://www.kaggle.com/hugomathien/soccer) for more information.\n",
        "\n",
        "\n",
        "### Question(s) for Analysis\n",
        "\n",
        "1. Which players are the best penalty takers?\n",
        "\n",
        "2. Which attributes determine (correlate) with a player's penalty taking ability?\n",
        "\n",
        "3. Which leagues scored the most home goals or most away goals?\n",
        "\n",
        "4. Which teams have the most wins?\n",
        "\n",
        "5. Which teams scored the most goals?"
      ]
    },
    {
      "cell_type": "code",
      "execution_count": 1,
      "metadata": {
        "colab": {
          "base_uri": "https://localhost:8080/"
        },
        "id": "5kDEt9ZR0Sy5",
        "outputId": "914b14f1-f28d-493f-d660-7c7f2a7aa3c3"
      },
      "outputs": [
        {
          "output_type": "stream",
          "name": "stdout",
          "text": [
            "Looking in indexes: https://pypi.org/simple, https://us-python.pkg.dev/colab-wheels/public/simple/\n",
            "Requirement already satisfied: opendatasets in /usr/local/lib/python3.7/dist-packages (0.1.22)\n",
            "Requirement already satisfied: tqdm in /usr/local/lib/python3.7/dist-packages (from opendatasets) (4.64.0)\n",
            "Requirement already satisfied: click in /usr/local/lib/python3.7/dist-packages (from opendatasets) (7.1.2)\n",
            "Requirement already satisfied: kaggle in /usr/local/lib/python3.7/dist-packages (from opendatasets) (1.5.12)\n",
            "Requirement already satisfied: python-dateutil in /usr/local/lib/python3.7/dist-packages (from kaggle->opendatasets) (2.8.2)\n",
            "Requirement already satisfied: python-slugify in /usr/local/lib/python3.7/dist-packages (from kaggle->opendatasets) (6.1.2)\n",
            "Requirement already satisfied: urllib3 in /usr/local/lib/python3.7/dist-packages (from kaggle->opendatasets) (1.24.3)\n",
            "Requirement already satisfied: requests in /usr/local/lib/python3.7/dist-packages (from kaggle->opendatasets) (2.23.0)\n",
            "Requirement already satisfied: certifi in /usr/local/lib/python3.7/dist-packages (from kaggle->opendatasets) (2022.5.18.1)\n",
            "Requirement already satisfied: six>=1.10 in /usr/local/lib/python3.7/dist-packages (from kaggle->opendatasets) (1.15.0)\n",
            "Requirement already satisfied: text-unidecode>=1.3 in /usr/local/lib/python3.7/dist-packages (from python-slugify->kaggle->opendatasets) (1.3)\n",
            "Requirement already satisfied: idna<3,>=2.5 in /usr/local/lib/python3.7/dist-packages (from requests->kaggle->opendatasets) (2.10)\n",
            "Requirement already satisfied: chardet<4,>=3.0.2 in /usr/local/lib/python3.7/dist-packages (from requests->kaggle->opendatasets) (3.0.4)\n"
          ]
        }
      ],
      "source": [
        "# Install opendatasets to download dataset from Kaggle.\n",
        "!pip install opendatasets"
      ]
    },
    {
      "cell_type": "code",
      "execution_count": 2,
      "metadata": {
        "colab": {
          "base_uri": "https://localhost:8080/"
        },
        "id": "7_N3f9qn0Sy8",
        "outputId": "1c549386-3594-4d81-b5a7-beccf9f44f16"
      },
      "outputs": [
        {
          "output_type": "stream",
          "name": "stdout",
          "text": [
            "Skipping, found downloaded files in \"./soccer\" (use force=True to force download)\n"
          ]
        }
      ],
      "source": [
        "# Import opendatasets and download download dataset from Kaggle.\n",
        "import opendatasets as od\n",
        "\n",
        "od.download('https://www.kaggle.com/datasets/hugomathien/soccer')"
      ]
    },
    {
      "cell_type": "code",
      "execution_count": 3,
      "metadata": {
        "id": "PAI7oUSD0Sy9"
      },
      "outputs": [],
      "source": [
        "# Import libraries\n",
        "%matplotlib inline\n",
        "\n",
        "import numpy as np\n",
        "import pandas as pd\n",
        "import sqlite3\n",
        "import matplotlib.pyplot as plt\n",
        "import seaborn as sns\n",
        "\n",
        "pd.set_option('display.max_columns', 500)"
      ]
    },
    {
      "cell_type": "markdown",
      "metadata": {
        "id": "G3O2fNVN0SzA"
      },
      "source": [
        "<a id='wrangling'></a>\n",
        "## Data Wrangling"
      ]
    },
    {
      "cell_type": "code",
      "execution_count": 4,
      "metadata": {
        "colab": {
          "base_uri": "https://localhost:8080/"
        },
        "collapsed": true,
        "id": "5srJPShl0SzD",
        "outputId": "6202ead5-916f-4141-a95a-48aa513b34bc"
      },
      "outputs": [
        {
          "output_type": "stream",
          "name": "stdout",
          "text": [
            "['sqlite_sequence', 'Player_Attributes', 'Player', 'Match', 'League', 'Country', 'Team', 'Team_Attributes']\n"
          ]
        }
      ],
      "source": [
        "# Load data from SQLite and print out table names.\n",
        "dbcon = sqlite3.connect('./soccer/database.sqlite')\n",
        "tables = list(pd.read_sql_query(\"SELECT name FROM sqlite_master WHERE type='table';\", dbcon)['name'])\n",
        "\n",
        "print(tables)"
      ]
    },
    {
      "cell_type": "code",
      "execution_count": 5,
      "metadata": {
        "id": "C2DwwaEy34jU"
      },
      "outputs": [],
      "source": [
        "# Join tables and select columns for analysis\n",
        "player_query = \"\"\"\n",
        "SELECT \n",
        "pl.player_api_id, player_name, pl.player_fifa_api_id, birthday, height, weight, \n",
        "date, overall_rating, potential, preferred_foot, attacking_work_rate, defensive_work_rate,\n",
        "crossing, finishing, heading_accuracy, short_passing, volleys, dribbling, curve,\n",
        "free_kick_accuracy, long_passing, ball_control, acceleration, sprint_speed, agility,\n",
        "reactions, balance, shot_power, jumping, stamina, strength, long_shots, aggression,\t\n",
        "interceptions, positioning, vision, penalties, marking, standing_tackle, sliding_tackle,\n",
        "gk_diving, gk_handling, gk_kicking, gk_positioning, gk_reflexes\n",
        " FROM Player pl\n",
        "JOIN Player_Attributes pla\n",
        "ON pl.player_api_id = pla.player_api_id \n",
        "\"\"\""
      ]
    },
    {
      "cell_type": "code",
      "source": [
        "# Create dataframe using pd.read_sql_query\n",
        "player_df = pd.read_sql_query(player_query, dbcon)"
      ],
      "metadata": {
        "id": "tPcnvEt73erp"
      },
      "execution_count": 6,
      "outputs": []
    },
    {
      "cell_type": "code",
      "execution_count": 7,
      "metadata": {
        "colab": {
          "base_uri": "https://localhost:8080/",
          "height": 357
        },
        "id": "7bWVm_Wz76II",
        "outputId": "ed2f105a-00f6-4f87-c507-020bb736bb66"
      },
      "outputs": [
        {
          "output_type": "execute_result",
          "data": {
            "text/plain": [
              "   player_api_id         player_name  player_fifa_api_id             birthday  \\\n",
              "0         505942  Aaron Appindangoye              218353  1992-02-29 00:00:00   \n",
              "1         505942  Aaron Appindangoye              218353  1992-02-29 00:00:00   \n",
              "2         505942  Aaron Appindangoye              218353  1992-02-29 00:00:00   \n",
              "3         505942  Aaron Appindangoye              218353  1992-02-29 00:00:00   \n",
              "4         505942  Aaron Appindangoye              218353  1992-02-29 00:00:00   \n",
              "\n",
              "   height  weight                 date  overall_rating  potential  \\\n",
              "0  182.88     187  2016-02-18 00:00:00            67.0       71.0   \n",
              "1  182.88     187  2015-11-19 00:00:00            67.0       71.0   \n",
              "2  182.88     187  2015-09-21 00:00:00            62.0       66.0   \n",
              "3  182.88     187  2015-03-20 00:00:00            61.0       65.0   \n",
              "4  182.88     187  2007-02-22 00:00:00            61.0       65.0   \n",
              "\n",
              "  preferred_foot attacking_work_rate defensive_work_rate  crossing  finishing  \\\n",
              "0          right              medium              medium      49.0       44.0   \n",
              "1          right              medium              medium      49.0       44.0   \n",
              "2          right              medium              medium      49.0       44.0   \n",
              "3          right              medium              medium      48.0       43.0   \n",
              "4          right              medium              medium      48.0       43.0   \n",
              "\n",
              "   heading_accuracy  short_passing  volleys  dribbling  curve  \\\n",
              "0              71.0           61.0     44.0       51.0   45.0   \n",
              "1              71.0           61.0     44.0       51.0   45.0   \n",
              "2              71.0           61.0     44.0       51.0   45.0   \n",
              "3              70.0           60.0     43.0       50.0   44.0   \n",
              "4              70.0           60.0     43.0       50.0   44.0   \n",
              "\n",
              "   free_kick_accuracy  long_passing  ball_control  acceleration  sprint_speed  \\\n",
              "0                39.0          64.0          49.0          60.0          64.0   \n",
              "1                39.0          64.0          49.0          60.0          64.0   \n",
              "2                39.0          64.0          49.0          60.0          64.0   \n",
              "3                38.0          63.0          48.0          60.0          64.0   \n",
              "4                38.0          63.0          48.0          60.0          64.0   \n",
              "\n",
              "   agility  reactions  balance  shot_power  jumping  stamina  strength  \\\n",
              "0     59.0       47.0     65.0        55.0     58.0     54.0      76.0   \n",
              "1     59.0       47.0     65.0        55.0     58.0     54.0      76.0   \n",
              "2     59.0       47.0     65.0        55.0     58.0     54.0      76.0   \n",
              "3     59.0       46.0     65.0        54.0     58.0     54.0      76.0   \n",
              "4     59.0       46.0     65.0        54.0     58.0     54.0      76.0   \n",
              "\n",
              "   long_shots  aggression  interceptions  positioning  vision  penalties  \\\n",
              "0        35.0        71.0           70.0         45.0    54.0       48.0   \n",
              "1        35.0        71.0           70.0         45.0    54.0       48.0   \n",
              "2        35.0        63.0           41.0         45.0    54.0       48.0   \n",
              "3        34.0        62.0           40.0         44.0    53.0       47.0   \n",
              "4        34.0        62.0           40.0         44.0    53.0       47.0   \n",
              "\n",
              "   marking  standing_tackle  sliding_tackle  gk_diving  gk_handling  \\\n",
              "0     65.0             69.0            69.0        6.0         11.0   \n",
              "1     65.0             69.0            69.0        6.0         11.0   \n",
              "2     65.0             66.0            69.0        6.0         11.0   \n",
              "3     62.0             63.0            66.0        5.0         10.0   \n",
              "4     62.0             63.0            66.0        5.0         10.0   \n",
              "\n",
              "   gk_kicking  gk_positioning  gk_reflexes  \n",
              "0        10.0             8.0          8.0  \n",
              "1        10.0             8.0          8.0  \n",
              "2        10.0             8.0          8.0  \n",
              "3         9.0             7.0          7.0  \n",
              "4         9.0             7.0          7.0  "
            ],
            "text/html": [
              "\n",
              "  <div id=\"df-bc82baf2-4705-41c8-a037-dee3cdf760df\">\n",
              "    <div class=\"colab-df-container\">\n",
              "      <div>\n",
              "<style scoped>\n",
              "    .dataframe tbody tr th:only-of-type {\n",
              "        vertical-align: middle;\n",
              "    }\n",
              "\n",
              "    .dataframe tbody tr th {\n",
              "        vertical-align: top;\n",
              "    }\n",
              "\n",
              "    .dataframe thead th {\n",
              "        text-align: right;\n",
              "    }\n",
              "</style>\n",
              "<table border=\"1\" class=\"dataframe\">\n",
              "  <thead>\n",
              "    <tr style=\"text-align: right;\">\n",
              "      <th></th>\n",
              "      <th>player_api_id</th>\n",
              "      <th>player_name</th>\n",
              "      <th>player_fifa_api_id</th>\n",
              "      <th>birthday</th>\n",
              "      <th>height</th>\n",
              "      <th>weight</th>\n",
              "      <th>date</th>\n",
              "      <th>overall_rating</th>\n",
              "      <th>potential</th>\n",
              "      <th>preferred_foot</th>\n",
              "      <th>attacking_work_rate</th>\n",
              "      <th>defensive_work_rate</th>\n",
              "      <th>crossing</th>\n",
              "      <th>finishing</th>\n",
              "      <th>heading_accuracy</th>\n",
              "      <th>short_passing</th>\n",
              "      <th>volleys</th>\n",
              "      <th>dribbling</th>\n",
              "      <th>curve</th>\n",
              "      <th>free_kick_accuracy</th>\n",
              "      <th>long_passing</th>\n",
              "      <th>ball_control</th>\n",
              "      <th>acceleration</th>\n",
              "      <th>sprint_speed</th>\n",
              "      <th>agility</th>\n",
              "      <th>reactions</th>\n",
              "      <th>balance</th>\n",
              "      <th>shot_power</th>\n",
              "      <th>jumping</th>\n",
              "      <th>stamina</th>\n",
              "      <th>strength</th>\n",
              "      <th>long_shots</th>\n",
              "      <th>aggression</th>\n",
              "      <th>interceptions</th>\n",
              "      <th>positioning</th>\n",
              "      <th>vision</th>\n",
              "      <th>penalties</th>\n",
              "      <th>marking</th>\n",
              "      <th>standing_tackle</th>\n",
              "      <th>sliding_tackle</th>\n",
              "      <th>gk_diving</th>\n",
              "      <th>gk_handling</th>\n",
              "      <th>gk_kicking</th>\n",
              "      <th>gk_positioning</th>\n",
              "      <th>gk_reflexes</th>\n",
              "    </tr>\n",
              "  </thead>\n",
              "  <tbody>\n",
              "    <tr>\n",
              "      <th>0</th>\n",
              "      <td>505942</td>\n",
              "      <td>Aaron Appindangoye</td>\n",
              "      <td>218353</td>\n",
              "      <td>1992-02-29 00:00:00</td>\n",
              "      <td>182.88</td>\n",
              "      <td>187</td>\n",
              "      <td>2016-02-18 00:00:00</td>\n",
              "      <td>67.0</td>\n",
              "      <td>71.0</td>\n",
              "      <td>right</td>\n",
              "      <td>medium</td>\n",
              "      <td>medium</td>\n",
              "      <td>49.0</td>\n",
              "      <td>44.0</td>\n",
              "      <td>71.0</td>\n",
              "      <td>61.0</td>\n",
              "      <td>44.0</td>\n",
              "      <td>51.0</td>\n",
              "      <td>45.0</td>\n",
              "      <td>39.0</td>\n",
              "      <td>64.0</td>\n",
              "      <td>49.0</td>\n",
              "      <td>60.0</td>\n",
              "      <td>64.0</td>\n",
              "      <td>59.0</td>\n",
              "      <td>47.0</td>\n",
              "      <td>65.0</td>\n",
              "      <td>55.0</td>\n",
              "      <td>58.0</td>\n",
              "      <td>54.0</td>\n",
              "      <td>76.0</td>\n",
              "      <td>35.0</td>\n",
              "      <td>71.0</td>\n",
              "      <td>70.0</td>\n",
              "      <td>45.0</td>\n",
              "      <td>54.0</td>\n",
              "      <td>48.0</td>\n",
              "      <td>65.0</td>\n",
              "      <td>69.0</td>\n",
              "      <td>69.0</td>\n",
              "      <td>6.0</td>\n",
              "      <td>11.0</td>\n",
              "      <td>10.0</td>\n",
              "      <td>8.0</td>\n",
              "      <td>8.0</td>\n",
              "    </tr>\n",
              "    <tr>\n",
              "      <th>1</th>\n",
              "      <td>505942</td>\n",
              "      <td>Aaron Appindangoye</td>\n",
              "      <td>218353</td>\n",
              "      <td>1992-02-29 00:00:00</td>\n",
              "      <td>182.88</td>\n",
              "      <td>187</td>\n",
              "      <td>2015-11-19 00:00:00</td>\n",
              "      <td>67.0</td>\n",
              "      <td>71.0</td>\n",
              "      <td>right</td>\n",
              "      <td>medium</td>\n",
              "      <td>medium</td>\n",
              "      <td>49.0</td>\n",
              "      <td>44.0</td>\n",
              "      <td>71.0</td>\n",
              "      <td>61.0</td>\n",
              "      <td>44.0</td>\n",
              "      <td>51.0</td>\n",
              "      <td>45.0</td>\n",
              "      <td>39.0</td>\n",
              "      <td>64.0</td>\n",
              "      <td>49.0</td>\n",
              "      <td>60.0</td>\n",
              "      <td>64.0</td>\n",
              "      <td>59.0</td>\n",
              "      <td>47.0</td>\n",
              "      <td>65.0</td>\n",
              "      <td>55.0</td>\n",
              "      <td>58.0</td>\n",
              "      <td>54.0</td>\n",
              "      <td>76.0</td>\n",
              "      <td>35.0</td>\n",
              "      <td>71.0</td>\n",
              "      <td>70.0</td>\n",
              "      <td>45.0</td>\n",
              "      <td>54.0</td>\n",
              "      <td>48.0</td>\n",
              "      <td>65.0</td>\n",
              "      <td>69.0</td>\n",
              "      <td>69.0</td>\n",
              "      <td>6.0</td>\n",
              "      <td>11.0</td>\n",
              "      <td>10.0</td>\n",
              "      <td>8.0</td>\n",
              "      <td>8.0</td>\n",
              "    </tr>\n",
              "    <tr>\n",
              "      <th>2</th>\n",
              "      <td>505942</td>\n",
              "      <td>Aaron Appindangoye</td>\n",
              "      <td>218353</td>\n",
              "      <td>1992-02-29 00:00:00</td>\n",
              "      <td>182.88</td>\n",
              "      <td>187</td>\n",
              "      <td>2015-09-21 00:00:00</td>\n",
              "      <td>62.0</td>\n",
              "      <td>66.0</td>\n",
              "      <td>right</td>\n",
              "      <td>medium</td>\n",
              "      <td>medium</td>\n",
              "      <td>49.0</td>\n",
              "      <td>44.0</td>\n",
              "      <td>71.0</td>\n",
              "      <td>61.0</td>\n",
              "      <td>44.0</td>\n",
              "      <td>51.0</td>\n",
              "      <td>45.0</td>\n",
              "      <td>39.0</td>\n",
              "      <td>64.0</td>\n",
              "      <td>49.0</td>\n",
              "      <td>60.0</td>\n",
              "      <td>64.0</td>\n",
              "      <td>59.0</td>\n",
              "      <td>47.0</td>\n",
              "      <td>65.0</td>\n",
              "      <td>55.0</td>\n",
              "      <td>58.0</td>\n",
              "      <td>54.0</td>\n",
              "      <td>76.0</td>\n",
              "      <td>35.0</td>\n",
              "      <td>63.0</td>\n",
              "      <td>41.0</td>\n",
              "      <td>45.0</td>\n",
              "      <td>54.0</td>\n",
              "      <td>48.0</td>\n",
              "      <td>65.0</td>\n",
              "      <td>66.0</td>\n",
              "      <td>69.0</td>\n",
              "      <td>6.0</td>\n",
              "      <td>11.0</td>\n",
              "      <td>10.0</td>\n",
              "      <td>8.0</td>\n",
              "      <td>8.0</td>\n",
              "    </tr>\n",
              "    <tr>\n",
              "      <th>3</th>\n",
              "      <td>505942</td>\n",
              "      <td>Aaron Appindangoye</td>\n",
              "      <td>218353</td>\n",
              "      <td>1992-02-29 00:00:00</td>\n",
              "      <td>182.88</td>\n",
              "      <td>187</td>\n",
              "      <td>2015-03-20 00:00:00</td>\n",
              "      <td>61.0</td>\n",
              "      <td>65.0</td>\n",
              "      <td>right</td>\n",
              "      <td>medium</td>\n",
              "      <td>medium</td>\n",
              "      <td>48.0</td>\n",
              "      <td>43.0</td>\n",
              "      <td>70.0</td>\n",
              "      <td>60.0</td>\n",
              "      <td>43.0</td>\n",
              "      <td>50.0</td>\n",
              "      <td>44.0</td>\n",
              "      <td>38.0</td>\n",
              "      <td>63.0</td>\n",
              "      <td>48.0</td>\n",
              "      <td>60.0</td>\n",
              "      <td>64.0</td>\n",
              "      <td>59.0</td>\n",
              "      <td>46.0</td>\n",
              "      <td>65.0</td>\n",
              "      <td>54.0</td>\n",
              "      <td>58.0</td>\n",
              "      <td>54.0</td>\n",
              "      <td>76.0</td>\n",
              "      <td>34.0</td>\n",
              "      <td>62.0</td>\n",
              "      <td>40.0</td>\n",
              "      <td>44.0</td>\n",
              "      <td>53.0</td>\n",
              "      <td>47.0</td>\n",
              "      <td>62.0</td>\n",
              "      <td>63.0</td>\n",
              "      <td>66.0</td>\n",
              "      <td>5.0</td>\n",
              "      <td>10.0</td>\n",
              "      <td>9.0</td>\n",
              "      <td>7.0</td>\n",
              "      <td>7.0</td>\n",
              "    </tr>\n",
              "    <tr>\n",
              "      <th>4</th>\n",
              "      <td>505942</td>\n",
              "      <td>Aaron Appindangoye</td>\n",
              "      <td>218353</td>\n",
              "      <td>1992-02-29 00:00:00</td>\n",
              "      <td>182.88</td>\n",
              "      <td>187</td>\n",
              "      <td>2007-02-22 00:00:00</td>\n",
              "      <td>61.0</td>\n",
              "      <td>65.0</td>\n",
              "      <td>right</td>\n",
              "      <td>medium</td>\n",
              "      <td>medium</td>\n",
              "      <td>48.0</td>\n",
              "      <td>43.0</td>\n",
              "      <td>70.0</td>\n",
              "      <td>60.0</td>\n",
              "      <td>43.0</td>\n",
              "      <td>50.0</td>\n",
              "      <td>44.0</td>\n",
              "      <td>38.0</td>\n",
              "      <td>63.0</td>\n",
              "      <td>48.0</td>\n",
              "      <td>60.0</td>\n",
              "      <td>64.0</td>\n",
              "      <td>59.0</td>\n",
              "      <td>46.0</td>\n",
              "      <td>65.0</td>\n",
              "      <td>54.0</td>\n",
              "      <td>58.0</td>\n",
              "      <td>54.0</td>\n",
              "      <td>76.0</td>\n",
              "      <td>34.0</td>\n",
              "      <td>62.0</td>\n",
              "      <td>40.0</td>\n",
              "      <td>44.0</td>\n",
              "      <td>53.0</td>\n",
              "      <td>47.0</td>\n",
              "      <td>62.0</td>\n",
              "      <td>63.0</td>\n",
              "      <td>66.0</td>\n",
              "      <td>5.0</td>\n",
              "      <td>10.0</td>\n",
              "      <td>9.0</td>\n",
              "      <td>7.0</td>\n",
              "      <td>7.0</td>\n",
              "    </tr>\n",
              "  </tbody>\n",
              "</table>\n",
              "</div>\n",
              "      <button class=\"colab-df-convert\" onclick=\"convertToInteractive('df-bc82baf2-4705-41c8-a037-dee3cdf760df')\"\n",
              "              title=\"Convert this dataframe to an interactive table.\"\n",
              "              style=\"display:none;\">\n",
              "        \n",
              "  <svg xmlns=\"http://www.w3.org/2000/svg\" height=\"24px\"viewBox=\"0 0 24 24\"\n",
              "       width=\"24px\">\n",
              "    <path d=\"M0 0h24v24H0V0z\" fill=\"none\"/>\n",
              "    <path d=\"M18.56 5.44l.94 2.06.94-2.06 2.06-.94-2.06-.94-.94-2.06-.94 2.06-2.06.94zm-11 1L8.5 8.5l.94-2.06 2.06-.94-2.06-.94L8.5 2.5l-.94 2.06-2.06.94zm10 10l.94 2.06.94-2.06 2.06-.94-2.06-.94-.94-2.06-.94 2.06-2.06.94z\"/><path d=\"M17.41 7.96l-1.37-1.37c-.4-.4-.92-.59-1.43-.59-.52 0-1.04.2-1.43.59L10.3 9.45l-7.72 7.72c-.78.78-.78 2.05 0 2.83L4 21.41c.39.39.9.59 1.41.59.51 0 1.02-.2 1.41-.59l7.78-7.78 2.81-2.81c.8-.78.8-2.07 0-2.86zM5.41 20L4 18.59l7.72-7.72 1.47 1.35L5.41 20z\"/>\n",
              "  </svg>\n",
              "      </button>\n",
              "      \n",
              "  <style>\n",
              "    .colab-df-container {\n",
              "      display:flex;\n",
              "      flex-wrap:wrap;\n",
              "      gap: 12px;\n",
              "    }\n",
              "\n",
              "    .colab-df-convert {\n",
              "      background-color: #E8F0FE;\n",
              "      border: none;\n",
              "      border-radius: 50%;\n",
              "      cursor: pointer;\n",
              "      display: none;\n",
              "      fill: #1967D2;\n",
              "      height: 32px;\n",
              "      padding: 0 0 0 0;\n",
              "      width: 32px;\n",
              "    }\n",
              "\n",
              "    .colab-df-convert:hover {\n",
              "      background-color: #E2EBFA;\n",
              "      box-shadow: 0px 1px 2px rgba(60, 64, 67, 0.3), 0px 1px 3px 1px rgba(60, 64, 67, 0.15);\n",
              "      fill: #174EA6;\n",
              "    }\n",
              "\n",
              "    [theme=dark] .colab-df-convert {\n",
              "      background-color: #3B4455;\n",
              "      fill: #D2E3FC;\n",
              "    }\n",
              "\n",
              "    [theme=dark] .colab-df-convert:hover {\n",
              "      background-color: #434B5C;\n",
              "      box-shadow: 0px 1px 3px 1px rgba(0, 0, 0, 0.15);\n",
              "      filter: drop-shadow(0px 1px 2px rgba(0, 0, 0, 0.3));\n",
              "      fill: #FFFFFF;\n",
              "    }\n",
              "  </style>\n",
              "\n",
              "      <script>\n",
              "        const buttonEl =\n",
              "          document.querySelector('#df-bc82baf2-4705-41c8-a037-dee3cdf760df button.colab-df-convert');\n",
              "        buttonEl.style.display =\n",
              "          google.colab.kernel.accessAllowed ? 'block' : 'none';\n",
              "\n",
              "        async function convertToInteractive(key) {\n",
              "          const element = document.querySelector('#df-bc82baf2-4705-41c8-a037-dee3cdf760df');\n",
              "          const dataTable =\n",
              "            await google.colab.kernel.invokeFunction('convertToInteractive',\n",
              "                                                     [key], {});\n",
              "          if (!dataTable) return;\n",
              "\n",
              "          const docLinkHtml = 'Like what you see? Visit the ' +\n",
              "            '<a target=\"_blank\" href=https://colab.research.google.com/notebooks/data_table.ipynb>data table notebook</a>'\n",
              "            + ' to learn more about interactive tables.';\n",
              "          element.innerHTML = '';\n",
              "          dataTable['output_type'] = 'display_data';\n",
              "          await google.colab.output.renderOutput(dataTable, element);\n",
              "          const docLink = document.createElement('div');\n",
              "          docLink.innerHTML = docLinkHtml;\n",
              "          element.appendChild(docLink);\n",
              "        }\n",
              "      </script>\n",
              "    </div>\n",
              "  </div>\n",
              "  "
            ]
          },
          "metadata": {},
          "execution_count": 7
        }
      ],
      "source": [
        "# Overview of Player dataframe\n",
        "player_df.head()"
      ]
    },
    {
      "cell_type": "code",
      "execution_count": 8,
      "metadata": {
        "colab": {
          "base_uri": "https://localhost:8080/"
        },
        "id": "E0NOjPzZZJNn",
        "outputId": "9cf16f44-acdc-46d2-f587-170e78b2b172"
      },
      "outputs": [
        {
          "output_type": "execute_result",
          "data": {
            "text/plain": [
              "(183978, 45)"
            ]
          },
          "metadata": {},
          "execution_count": 8
        }
      ],
      "source": [
        "# Player dataframe size\n",
        "player_df.shape"
      ]
    },
    {
      "cell_type": "code",
      "execution_count": 9,
      "metadata": {
        "colab": {
          "base_uri": "https://localhost:8080/",
          "height": 364
        },
        "id": "hfRCUrEAX-_E",
        "outputId": "ba68c668-27bf-494c-fea2-a08796a32636"
      },
      "outputs": [
        {
          "output_type": "execute_result",
          "data": {
            "text/plain": [
              "       player_api_id  player_fifa_api_id         height         weight  \\\n",
              "count  183978.000000       183978.000000  183978.000000  183978.000000   \n",
              "mean   135900.617324       165636.285936     181.878872     168.776245   \n",
              "std    136927.840510        53856.899802       6.394818      15.088920   \n",
              "min      2625.000000            2.000000     157.480000     117.000000   \n",
              "25%     34763.000000       155681.000000     177.800000     159.000000   \n",
              "50%     77741.000000       183471.000000     182.880000     168.000000   \n",
              "75%    191080.000000       199843.750000     185.420000     179.000000   \n",
              "max    750584.000000       234141.000000     208.280000     243.000000   \n",
              "\n",
              "       overall_rating      potential       crossing      finishing  \\\n",
              "count   183142.000000  183142.000000  183142.000000  183142.000000   \n",
              "mean        68.600015      73.460353      55.086883      49.921078   \n",
              "std          7.041139       6.592271      17.242135      19.038705   \n",
              "min         33.000000      39.000000       1.000000       1.000000   \n",
              "25%         64.000000      69.000000      45.000000      34.000000   \n",
              "50%         69.000000      74.000000      59.000000      53.000000   \n",
              "75%         73.000000      78.000000      68.000000      65.000000   \n",
              "max         94.000000      97.000000      95.000000      97.000000   \n",
              "\n",
              "       heading_accuracy  short_passing        volleys      dribbling  \\\n",
              "count     183142.000000  183142.000000  181265.000000  183142.000000   \n",
              "mean          57.266023      62.429672      49.468436      59.175154   \n",
              "std           16.488905      14.194068      18.256618      17.744688   \n",
              "min            1.000000       3.000000       1.000000       1.000000   \n",
              "25%           49.000000      57.000000      35.000000      52.000000   \n",
              "50%           60.000000      65.000000      52.000000      64.000000   \n",
              "75%           68.000000      72.000000      64.000000      72.000000   \n",
              "max           98.000000      97.000000      93.000000      97.000000   \n",
              "\n",
              "               curve  free_kick_accuracy   long_passing   ball_control  \\\n",
              "count  181265.000000       183142.000000  183142.000000  183142.000000   \n",
              "mean       52.965675           49.380950      57.069880      63.388879   \n",
              "std        18.255788           17.831746      14.394464      15.196671   \n",
              "min         2.000000            1.000000       3.000000       5.000000   \n",
              "25%        41.000000           36.000000      49.000000      58.000000   \n",
              "50%        56.000000           50.000000      59.000000      67.000000   \n",
              "75%        67.000000           63.000000      67.000000      73.000000   \n",
              "max        94.000000           97.000000      97.000000      97.000000   \n",
              "\n",
              "        acceleration   sprint_speed        agility      reactions  \\\n",
              "count  183142.000000  183142.000000  181265.000000  183142.000000   \n",
              "mean       67.659357      68.051244      65.970910      66.103706   \n",
              "std        12.983326      12.569721      12.954585       9.155408   \n",
              "min        10.000000      12.000000      11.000000      17.000000   \n",
              "25%        61.000000      62.000000      58.000000      61.000000   \n",
              "50%        69.000000      69.000000      68.000000      67.000000   \n",
              "75%        77.000000      77.000000      75.000000      72.000000   \n",
              "max        97.000000      97.000000      96.000000      96.000000   \n",
              "\n",
              "             balance     shot_power        jumping        stamina  \\\n",
              "count  181265.000000  183142.000000  181265.000000  183142.000000   \n",
              "mean       65.189496      61.808427      66.969045      67.038544   \n",
              "std        13.063188      16.135143      11.006734      13.165262   \n",
              "min        12.000000       2.000000      14.000000      10.000000   \n",
              "25%        58.000000      54.000000      60.000000      61.000000   \n",
              "50%        67.000000      65.000000      68.000000      69.000000   \n",
              "75%        74.000000      73.000000      74.000000      76.000000   \n",
              "max        96.000000      97.000000      96.000000      96.000000   \n",
              "\n",
              "            strength     long_shots     aggression  interceptions  \\\n",
              "count  183142.000000  183142.000000  183142.000000  183142.000000   \n",
              "mean       67.424529      53.339431      60.948046      52.009271   \n",
              "std        12.072280      18.367025      16.089521      19.450133   \n",
              "min        10.000000       1.000000       6.000000       1.000000   \n",
              "25%        60.000000      41.000000      51.000000      34.000000   \n",
              "50%        69.000000      58.000000      64.000000      57.000000   \n",
              "75%        76.000000      67.000000      73.000000      68.000000   \n",
              "max        96.000000      96.000000      97.000000      96.000000   \n",
              "\n",
              "         positioning         vision      penalties        marking  \\\n",
              "count  183142.000000  181265.000000  183142.000000  183142.000000   \n",
              "mean       55.786504      57.873550      55.003986      46.772242   \n",
              "std        18.448292      15.144086      15.546519      21.227667   \n",
              "min         2.000000       1.000000       2.000000       1.000000   \n",
              "25%        45.000000      49.000000      45.000000      25.000000   \n",
              "50%        60.000000      60.000000      57.000000      50.000000   \n",
              "75%        69.000000      69.000000      67.000000      66.000000   \n",
              "max        96.000000      97.000000      96.000000      96.000000   \n",
              "\n",
              "       standing_tackle  sliding_tackle      gk_diving    gk_handling  \\\n",
              "count    183142.000000   181265.000000  183142.000000  183142.000000   \n",
              "mean         50.351257       48.001462      14.704393      16.063612   \n",
              "std          21.483706       21.598778      16.865467      15.867382   \n",
              "min           1.000000        2.000000       1.000000       1.000000   \n",
              "25%          29.000000       25.000000       7.000000       8.000000   \n",
              "50%          56.000000       53.000000      10.000000      11.000000   \n",
              "75%          69.000000       67.000000      13.000000      15.000000   \n",
              "max          95.000000       95.000000      94.000000      93.000000   \n",
              "\n",
              "          gk_kicking  gk_positioning    gk_reflexes  \n",
              "count  183142.000000   183142.000000  183142.000000  \n",
              "mean       20.998362       16.132154      16.441439  \n",
              "std        21.452980       16.099175      17.198155  \n",
              "min         1.000000        1.000000       1.000000  \n",
              "25%         8.000000        8.000000       8.000000  \n",
              "50%        12.000000       11.000000      11.000000  \n",
              "75%        15.000000       15.000000      15.000000  \n",
              "max        97.000000       96.000000      96.000000  "
            ],
            "text/html": [
              "\n",
              "  <div id=\"df-14695e88-4552-4008-8181-ec8fc99d7662\">\n",
              "    <div class=\"colab-df-container\">\n",
              "      <div>\n",
              "<style scoped>\n",
              "    .dataframe tbody tr th:only-of-type {\n",
              "        vertical-align: middle;\n",
              "    }\n",
              "\n",
              "    .dataframe tbody tr th {\n",
              "        vertical-align: top;\n",
              "    }\n",
              "\n",
              "    .dataframe thead th {\n",
              "        text-align: right;\n",
              "    }\n",
              "</style>\n",
              "<table border=\"1\" class=\"dataframe\">\n",
              "  <thead>\n",
              "    <tr style=\"text-align: right;\">\n",
              "      <th></th>\n",
              "      <th>player_api_id</th>\n",
              "      <th>player_fifa_api_id</th>\n",
              "      <th>height</th>\n",
              "      <th>weight</th>\n",
              "      <th>overall_rating</th>\n",
              "      <th>potential</th>\n",
              "      <th>crossing</th>\n",
              "      <th>finishing</th>\n",
              "      <th>heading_accuracy</th>\n",
              "      <th>short_passing</th>\n",
              "      <th>volleys</th>\n",
              "      <th>dribbling</th>\n",
              "      <th>curve</th>\n",
              "      <th>free_kick_accuracy</th>\n",
              "      <th>long_passing</th>\n",
              "      <th>ball_control</th>\n",
              "      <th>acceleration</th>\n",
              "      <th>sprint_speed</th>\n",
              "      <th>agility</th>\n",
              "      <th>reactions</th>\n",
              "      <th>balance</th>\n",
              "      <th>shot_power</th>\n",
              "      <th>jumping</th>\n",
              "      <th>stamina</th>\n",
              "      <th>strength</th>\n",
              "      <th>long_shots</th>\n",
              "      <th>aggression</th>\n",
              "      <th>interceptions</th>\n",
              "      <th>positioning</th>\n",
              "      <th>vision</th>\n",
              "      <th>penalties</th>\n",
              "      <th>marking</th>\n",
              "      <th>standing_tackle</th>\n",
              "      <th>sliding_tackle</th>\n",
              "      <th>gk_diving</th>\n",
              "      <th>gk_handling</th>\n",
              "      <th>gk_kicking</th>\n",
              "      <th>gk_positioning</th>\n",
              "      <th>gk_reflexes</th>\n",
              "    </tr>\n",
              "  </thead>\n",
              "  <tbody>\n",
              "    <tr>\n",
              "      <th>count</th>\n",
              "      <td>183978.000000</td>\n",
              "      <td>183978.000000</td>\n",
              "      <td>183978.000000</td>\n",
              "      <td>183978.000000</td>\n",
              "      <td>183142.000000</td>\n",
              "      <td>183142.000000</td>\n",
              "      <td>183142.000000</td>\n",
              "      <td>183142.000000</td>\n",
              "      <td>183142.000000</td>\n",
              "      <td>183142.000000</td>\n",
              "      <td>181265.000000</td>\n",
              "      <td>183142.000000</td>\n",
              "      <td>181265.000000</td>\n",
              "      <td>183142.000000</td>\n",
              "      <td>183142.000000</td>\n",
              "      <td>183142.000000</td>\n",
              "      <td>183142.000000</td>\n",
              "      <td>183142.000000</td>\n",
              "      <td>181265.000000</td>\n",
              "      <td>183142.000000</td>\n",
              "      <td>181265.000000</td>\n",
              "      <td>183142.000000</td>\n",
              "      <td>181265.000000</td>\n",
              "      <td>183142.000000</td>\n",
              "      <td>183142.000000</td>\n",
              "      <td>183142.000000</td>\n",
              "      <td>183142.000000</td>\n",
              "      <td>183142.000000</td>\n",
              "      <td>183142.000000</td>\n",
              "      <td>181265.000000</td>\n",
              "      <td>183142.000000</td>\n",
              "      <td>183142.000000</td>\n",
              "      <td>183142.000000</td>\n",
              "      <td>181265.000000</td>\n",
              "      <td>183142.000000</td>\n",
              "      <td>183142.000000</td>\n",
              "      <td>183142.000000</td>\n",
              "      <td>183142.000000</td>\n",
              "      <td>183142.000000</td>\n",
              "    </tr>\n",
              "    <tr>\n",
              "      <th>mean</th>\n",
              "      <td>135900.617324</td>\n",
              "      <td>165636.285936</td>\n",
              "      <td>181.878872</td>\n",
              "      <td>168.776245</td>\n",
              "      <td>68.600015</td>\n",
              "      <td>73.460353</td>\n",
              "      <td>55.086883</td>\n",
              "      <td>49.921078</td>\n",
              "      <td>57.266023</td>\n",
              "      <td>62.429672</td>\n",
              "      <td>49.468436</td>\n",
              "      <td>59.175154</td>\n",
              "      <td>52.965675</td>\n",
              "      <td>49.380950</td>\n",
              "      <td>57.069880</td>\n",
              "      <td>63.388879</td>\n",
              "      <td>67.659357</td>\n",
              "      <td>68.051244</td>\n",
              "      <td>65.970910</td>\n",
              "      <td>66.103706</td>\n",
              "      <td>65.189496</td>\n",
              "      <td>61.808427</td>\n",
              "      <td>66.969045</td>\n",
              "      <td>67.038544</td>\n",
              "      <td>67.424529</td>\n",
              "      <td>53.339431</td>\n",
              "      <td>60.948046</td>\n",
              "      <td>52.009271</td>\n",
              "      <td>55.786504</td>\n",
              "      <td>57.873550</td>\n",
              "      <td>55.003986</td>\n",
              "      <td>46.772242</td>\n",
              "      <td>50.351257</td>\n",
              "      <td>48.001462</td>\n",
              "      <td>14.704393</td>\n",
              "      <td>16.063612</td>\n",
              "      <td>20.998362</td>\n",
              "      <td>16.132154</td>\n",
              "      <td>16.441439</td>\n",
              "    </tr>\n",
              "    <tr>\n",
              "      <th>std</th>\n",
              "      <td>136927.840510</td>\n",
              "      <td>53856.899802</td>\n",
              "      <td>6.394818</td>\n",
              "      <td>15.088920</td>\n",
              "      <td>7.041139</td>\n",
              "      <td>6.592271</td>\n",
              "      <td>17.242135</td>\n",
              "      <td>19.038705</td>\n",
              "      <td>16.488905</td>\n",
              "      <td>14.194068</td>\n",
              "      <td>18.256618</td>\n",
              "      <td>17.744688</td>\n",
              "      <td>18.255788</td>\n",
              "      <td>17.831746</td>\n",
              "      <td>14.394464</td>\n",
              "      <td>15.196671</td>\n",
              "      <td>12.983326</td>\n",
              "      <td>12.569721</td>\n",
              "      <td>12.954585</td>\n",
              "      <td>9.155408</td>\n",
              "      <td>13.063188</td>\n",
              "      <td>16.135143</td>\n",
              "      <td>11.006734</td>\n",
              "      <td>13.165262</td>\n",
              "      <td>12.072280</td>\n",
              "      <td>18.367025</td>\n",
              "      <td>16.089521</td>\n",
              "      <td>19.450133</td>\n",
              "      <td>18.448292</td>\n",
              "      <td>15.144086</td>\n",
              "      <td>15.546519</td>\n",
              "      <td>21.227667</td>\n",
              "      <td>21.483706</td>\n",
              "      <td>21.598778</td>\n",
              "      <td>16.865467</td>\n",
              "      <td>15.867382</td>\n",
              "      <td>21.452980</td>\n",
              "      <td>16.099175</td>\n",
              "      <td>17.198155</td>\n",
              "    </tr>\n",
              "    <tr>\n",
              "      <th>min</th>\n",
              "      <td>2625.000000</td>\n",
              "      <td>2.000000</td>\n",
              "      <td>157.480000</td>\n",
              "      <td>117.000000</td>\n",
              "      <td>33.000000</td>\n",
              "      <td>39.000000</td>\n",
              "      <td>1.000000</td>\n",
              "      <td>1.000000</td>\n",
              "      <td>1.000000</td>\n",
              "      <td>3.000000</td>\n",
              "      <td>1.000000</td>\n",
              "      <td>1.000000</td>\n",
              "      <td>2.000000</td>\n",
              "      <td>1.000000</td>\n",
              "      <td>3.000000</td>\n",
              "      <td>5.000000</td>\n",
              "      <td>10.000000</td>\n",
              "      <td>12.000000</td>\n",
              "      <td>11.000000</td>\n",
              "      <td>17.000000</td>\n",
              "      <td>12.000000</td>\n",
              "      <td>2.000000</td>\n",
              "      <td>14.000000</td>\n",
              "      <td>10.000000</td>\n",
              "      <td>10.000000</td>\n",
              "      <td>1.000000</td>\n",
              "      <td>6.000000</td>\n",
              "      <td>1.000000</td>\n",
              "      <td>2.000000</td>\n",
              "      <td>1.000000</td>\n",
              "      <td>2.000000</td>\n",
              "      <td>1.000000</td>\n",
              "      <td>1.000000</td>\n",
              "      <td>2.000000</td>\n",
              "      <td>1.000000</td>\n",
              "      <td>1.000000</td>\n",
              "      <td>1.000000</td>\n",
              "      <td>1.000000</td>\n",
              "      <td>1.000000</td>\n",
              "    </tr>\n",
              "    <tr>\n",
              "      <th>25%</th>\n",
              "      <td>34763.000000</td>\n",
              "      <td>155681.000000</td>\n",
              "      <td>177.800000</td>\n",
              "      <td>159.000000</td>\n",
              "      <td>64.000000</td>\n",
              "      <td>69.000000</td>\n",
              "      <td>45.000000</td>\n",
              "      <td>34.000000</td>\n",
              "      <td>49.000000</td>\n",
              "      <td>57.000000</td>\n",
              "      <td>35.000000</td>\n",
              "      <td>52.000000</td>\n",
              "      <td>41.000000</td>\n",
              "      <td>36.000000</td>\n",
              "      <td>49.000000</td>\n",
              "      <td>58.000000</td>\n",
              "      <td>61.000000</td>\n",
              "      <td>62.000000</td>\n",
              "      <td>58.000000</td>\n",
              "      <td>61.000000</td>\n",
              "      <td>58.000000</td>\n",
              "      <td>54.000000</td>\n",
              "      <td>60.000000</td>\n",
              "      <td>61.000000</td>\n",
              "      <td>60.000000</td>\n",
              "      <td>41.000000</td>\n",
              "      <td>51.000000</td>\n",
              "      <td>34.000000</td>\n",
              "      <td>45.000000</td>\n",
              "      <td>49.000000</td>\n",
              "      <td>45.000000</td>\n",
              "      <td>25.000000</td>\n",
              "      <td>29.000000</td>\n",
              "      <td>25.000000</td>\n",
              "      <td>7.000000</td>\n",
              "      <td>8.000000</td>\n",
              "      <td>8.000000</td>\n",
              "      <td>8.000000</td>\n",
              "      <td>8.000000</td>\n",
              "    </tr>\n",
              "    <tr>\n",
              "      <th>50%</th>\n",
              "      <td>77741.000000</td>\n",
              "      <td>183471.000000</td>\n",
              "      <td>182.880000</td>\n",
              "      <td>168.000000</td>\n",
              "      <td>69.000000</td>\n",
              "      <td>74.000000</td>\n",
              "      <td>59.000000</td>\n",
              "      <td>53.000000</td>\n",
              "      <td>60.000000</td>\n",
              "      <td>65.000000</td>\n",
              "      <td>52.000000</td>\n",
              "      <td>64.000000</td>\n",
              "      <td>56.000000</td>\n",
              "      <td>50.000000</td>\n",
              "      <td>59.000000</td>\n",
              "      <td>67.000000</td>\n",
              "      <td>69.000000</td>\n",
              "      <td>69.000000</td>\n",
              "      <td>68.000000</td>\n",
              "      <td>67.000000</td>\n",
              "      <td>67.000000</td>\n",
              "      <td>65.000000</td>\n",
              "      <td>68.000000</td>\n",
              "      <td>69.000000</td>\n",
              "      <td>69.000000</td>\n",
              "      <td>58.000000</td>\n",
              "      <td>64.000000</td>\n",
              "      <td>57.000000</td>\n",
              "      <td>60.000000</td>\n",
              "      <td>60.000000</td>\n",
              "      <td>57.000000</td>\n",
              "      <td>50.000000</td>\n",
              "      <td>56.000000</td>\n",
              "      <td>53.000000</td>\n",
              "      <td>10.000000</td>\n",
              "      <td>11.000000</td>\n",
              "      <td>12.000000</td>\n",
              "      <td>11.000000</td>\n",
              "      <td>11.000000</td>\n",
              "    </tr>\n",
              "    <tr>\n",
              "      <th>75%</th>\n",
              "      <td>191080.000000</td>\n",
              "      <td>199843.750000</td>\n",
              "      <td>185.420000</td>\n",
              "      <td>179.000000</td>\n",
              "      <td>73.000000</td>\n",
              "      <td>78.000000</td>\n",
              "      <td>68.000000</td>\n",
              "      <td>65.000000</td>\n",
              "      <td>68.000000</td>\n",
              "      <td>72.000000</td>\n",
              "      <td>64.000000</td>\n",
              "      <td>72.000000</td>\n",
              "      <td>67.000000</td>\n",
              "      <td>63.000000</td>\n",
              "      <td>67.000000</td>\n",
              "      <td>73.000000</td>\n",
              "      <td>77.000000</td>\n",
              "      <td>77.000000</td>\n",
              "      <td>75.000000</td>\n",
              "      <td>72.000000</td>\n",
              "      <td>74.000000</td>\n",
              "      <td>73.000000</td>\n",
              "      <td>74.000000</td>\n",
              "      <td>76.000000</td>\n",
              "      <td>76.000000</td>\n",
              "      <td>67.000000</td>\n",
              "      <td>73.000000</td>\n",
              "      <td>68.000000</td>\n",
              "      <td>69.000000</td>\n",
              "      <td>69.000000</td>\n",
              "      <td>67.000000</td>\n",
              "      <td>66.000000</td>\n",
              "      <td>69.000000</td>\n",
              "      <td>67.000000</td>\n",
              "      <td>13.000000</td>\n",
              "      <td>15.000000</td>\n",
              "      <td>15.000000</td>\n",
              "      <td>15.000000</td>\n",
              "      <td>15.000000</td>\n",
              "    </tr>\n",
              "    <tr>\n",
              "      <th>max</th>\n",
              "      <td>750584.000000</td>\n",
              "      <td>234141.000000</td>\n",
              "      <td>208.280000</td>\n",
              "      <td>243.000000</td>\n",
              "      <td>94.000000</td>\n",
              "      <td>97.000000</td>\n",
              "      <td>95.000000</td>\n",
              "      <td>97.000000</td>\n",
              "      <td>98.000000</td>\n",
              "      <td>97.000000</td>\n",
              "      <td>93.000000</td>\n",
              "      <td>97.000000</td>\n",
              "      <td>94.000000</td>\n",
              "      <td>97.000000</td>\n",
              "      <td>97.000000</td>\n",
              "      <td>97.000000</td>\n",
              "      <td>97.000000</td>\n",
              "      <td>97.000000</td>\n",
              "      <td>96.000000</td>\n",
              "      <td>96.000000</td>\n",
              "      <td>96.000000</td>\n",
              "      <td>97.000000</td>\n",
              "      <td>96.000000</td>\n",
              "      <td>96.000000</td>\n",
              "      <td>96.000000</td>\n",
              "      <td>96.000000</td>\n",
              "      <td>97.000000</td>\n",
              "      <td>96.000000</td>\n",
              "      <td>96.000000</td>\n",
              "      <td>97.000000</td>\n",
              "      <td>96.000000</td>\n",
              "      <td>96.000000</td>\n",
              "      <td>95.000000</td>\n",
              "      <td>95.000000</td>\n",
              "      <td>94.000000</td>\n",
              "      <td>93.000000</td>\n",
              "      <td>97.000000</td>\n",
              "      <td>96.000000</td>\n",
              "      <td>96.000000</td>\n",
              "    </tr>\n",
              "  </tbody>\n",
              "</table>\n",
              "</div>\n",
              "      <button class=\"colab-df-convert\" onclick=\"convertToInteractive('df-14695e88-4552-4008-8181-ec8fc99d7662')\"\n",
              "              title=\"Convert this dataframe to an interactive table.\"\n",
              "              style=\"display:none;\">\n",
              "        \n",
              "  <svg xmlns=\"http://www.w3.org/2000/svg\" height=\"24px\"viewBox=\"0 0 24 24\"\n",
              "       width=\"24px\">\n",
              "    <path d=\"M0 0h24v24H0V0z\" fill=\"none\"/>\n",
              "    <path d=\"M18.56 5.44l.94 2.06.94-2.06 2.06-.94-2.06-.94-.94-2.06-.94 2.06-2.06.94zm-11 1L8.5 8.5l.94-2.06 2.06-.94-2.06-.94L8.5 2.5l-.94 2.06-2.06.94zm10 10l.94 2.06.94-2.06 2.06-.94-2.06-.94-.94-2.06-.94 2.06-2.06.94z\"/><path d=\"M17.41 7.96l-1.37-1.37c-.4-.4-.92-.59-1.43-.59-.52 0-1.04.2-1.43.59L10.3 9.45l-7.72 7.72c-.78.78-.78 2.05 0 2.83L4 21.41c.39.39.9.59 1.41.59.51 0 1.02-.2 1.41-.59l7.78-7.78 2.81-2.81c.8-.78.8-2.07 0-2.86zM5.41 20L4 18.59l7.72-7.72 1.47 1.35L5.41 20z\"/>\n",
              "  </svg>\n",
              "      </button>\n",
              "      \n",
              "  <style>\n",
              "    .colab-df-container {\n",
              "      display:flex;\n",
              "      flex-wrap:wrap;\n",
              "      gap: 12px;\n",
              "    }\n",
              "\n",
              "    .colab-df-convert {\n",
              "      background-color: #E8F0FE;\n",
              "      border: none;\n",
              "      border-radius: 50%;\n",
              "      cursor: pointer;\n",
              "      display: none;\n",
              "      fill: #1967D2;\n",
              "      height: 32px;\n",
              "      padding: 0 0 0 0;\n",
              "      width: 32px;\n",
              "    }\n",
              "\n",
              "    .colab-df-convert:hover {\n",
              "      background-color: #E2EBFA;\n",
              "      box-shadow: 0px 1px 2px rgba(60, 64, 67, 0.3), 0px 1px 3px 1px rgba(60, 64, 67, 0.15);\n",
              "      fill: #174EA6;\n",
              "    }\n",
              "\n",
              "    [theme=dark] .colab-df-convert {\n",
              "      background-color: #3B4455;\n",
              "      fill: #D2E3FC;\n",
              "    }\n",
              "\n",
              "    [theme=dark] .colab-df-convert:hover {\n",
              "      background-color: #434B5C;\n",
              "      box-shadow: 0px 1px 3px 1px rgba(0, 0, 0, 0.15);\n",
              "      filter: drop-shadow(0px 1px 2px rgba(0, 0, 0, 0.3));\n",
              "      fill: #FFFFFF;\n",
              "    }\n",
              "  </style>\n",
              "\n",
              "      <script>\n",
              "        const buttonEl =\n",
              "          document.querySelector('#df-14695e88-4552-4008-8181-ec8fc99d7662 button.colab-df-convert');\n",
              "        buttonEl.style.display =\n",
              "          google.colab.kernel.accessAllowed ? 'block' : 'none';\n",
              "\n",
              "        async function convertToInteractive(key) {\n",
              "          const element = document.querySelector('#df-14695e88-4552-4008-8181-ec8fc99d7662');\n",
              "          const dataTable =\n",
              "            await google.colab.kernel.invokeFunction('convertToInteractive',\n",
              "                                                     [key], {});\n",
              "          if (!dataTable) return;\n",
              "\n",
              "          const docLinkHtml = 'Like what you see? Visit the ' +\n",
              "            '<a target=\"_blank\" href=https://colab.research.google.com/notebooks/data_table.ipynb>data table notebook</a>'\n",
              "            + ' to learn more about interactive tables.';\n",
              "          element.innerHTML = '';\n",
              "          dataTable['output_type'] = 'display_data';\n",
              "          await google.colab.output.renderOutput(dataTable, element);\n",
              "          const docLink = document.createElement('div');\n",
              "          docLink.innerHTML = docLinkHtml;\n",
              "          element.appendChild(docLink);\n",
              "        }\n",
              "      </script>\n",
              "    </div>\n",
              "  </div>\n",
              "  "
            ]
          },
          "metadata": {},
          "execution_count": 9
        }
      ],
      "source": [
        "# Player dataframe stats\n",
        "player_df.describe()"
      ]
    },
    {
      "cell_type": "code",
      "execution_count": 10,
      "metadata": {
        "colab": {
          "base_uri": "https://localhost:8080/"
        },
        "id": "ASg-YB7j3dpZ",
        "outputId": "9812a5ab-6cab-4a5c-8757-b9039d4ea239"
      },
      "outputs": [
        {
          "output_type": "stream",
          "name": "stdout",
          "text": [
            "<class 'pandas.core.frame.DataFrame'>\n",
            "RangeIndex: 183978 entries, 0 to 183977\n",
            "Data columns (total 45 columns):\n",
            " #   Column               Non-Null Count   Dtype  \n",
            "---  ------               --------------   -----  \n",
            " 0   player_api_id        183978 non-null  int64  \n",
            " 1   player_name          183978 non-null  object \n",
            " 2   player_fifa_api_id   183978 non-null  int64  \n",
            " 3   birthday             183978 non-null  object \n",
            " 4   height               183978 non-null  float64\n",
            " 5   weight               183978 non-null  int64  \n",
            " 6   date                 183978 non-null  object \n",
            " 7   overall_rating       183142 non-null  float64\n",
            " 8   potential            183142 non-null  float64\n",
            " 9   preferred_foot       183142 non-null  object \n",
            " 10  attacking_work_rate  180748 non-null  object \n",
            " 11  defensive_work_rate  183142 non-null  object \n",
            " 12  crossing             183142 non-null  float64\n",
            " 13  finishing            183142 non-null  float64\n",
            " 14  heading_accuracy     183142 non-null  float64\n",
            " 15  short_passing        183142 non-null  float64\n",
            " 16  volleys              181265 non-null  float64\n",
            " 17  dribbling            183142 non-null  float64\n",
            " 18  curve                181265 non-null  float64\n",
            " 19  free_kick_accuracy   183142 non-null  float64\n",
            " 20  long_passing         183142 non-null  float64\n",
            " 21  ball_control         183142 non-null  float64\n",
            " 22  acceleration         183142 non-null  float64\n",
            " 23  sprint_speed         183142 non-null  float64\n",
            " 24  agility              181265 non-null  float64\n",
            " 25  reactions            183142 non-null  float64\n",
            " 26  balance              181265 non-null  float64\n",
            " 27  shot_power           183142 non-null  float64\n",
            " 28  jumping              181265 non-null  float64\n",
            " 29  stamina              183142 non-null  float64\n",
            " 30  strength             183142 non-null  float64\n",
            " 31  long_shots           183142 non-null  float64\n",
            " 32  aggression           183142 non-null  float64\n",
            " 33  interceptions        183142 non-null  float64\n",
            " 34  positioning          183142 non-null  float64\n",
            " 35  vision               181265 non-null  float64\n",
            " 36  penalties            183142 non-null  float64\n",
            " 37  marking              183142 non-null  float64\n",
            " 38  standing_tackle      183142 non-null  float64\n",
            " 39  sliding_tackle       181265 non-null  float64\n",
            " 40  gk_diving            183142 non-null  float64\n",
            " 41  gk_handling          183142 non-null  float64\n",
            " 42  gk_kicking           183142 non-null  float64\n",
            " 43  gk_positioning       183142 non-null  float64\n",
            " 44  gk_reflexes          183142 non-null  float64\n",
            "dtypes: float64(36), int64(3), object(6)\n",
            "memory usage: 63.2+ MB\n"
          ]
        }
      ],
      "source": [
        "# Info on column's datatypes and non-null count\n",
        "player_df.info()"
      ]
    },
    {
      "cell_type": "code",
      "execution_count": 11,
      "metadata": {
        "colab": {
          "base_uri": "https://localhost:8080/"
        },
        "id": "YiBubCsCZoY-",
        "outputId": "c5154ed4-46a4-473c-de3c-fbf5711506ab"
      },
      "outputs": [
        {
          "output_type": "execute_result",
          "data": {
            "text/plain": [
              "player_api_id          0.000000\n",
              "player_name            0.000000\n",
              "player_fifa_api_id     0.000000\n",
              "birthday               0.000000\n",
              "height                 0.000000\n",
              "weight                 0.000000\n",
              "date                   0.000000\n",
              "overall_rating         0.454402\n",
              "potential              0.454402\n",
              "preferred_foot         0.454402\n",
              "attacking_work_rate    1.755645\n",
              "defensive_work_rate    0.454402\n",
              "crossing               0.454402\n",
              "finishing              0.454402\n",
              "heading_accuracy       0.454402\n",
              "short_passing          0.454402\n",
              "volleys                1.474633\n",
              "dribbling              0.454402\n",
              "curve                  1.474633\n",
              "free_kick_accuracy     0.454402\n",
              "long_passing           0.454402\n",
              "ball_control           0.454402\n",
              "acceleration           0.454402\n",
              "sprint_speed           0.454402\n",
              "agility                1.474633\n",
              "reactions              0.454402\n",
              "balance                1.474633\n",
              "shot_power             0.454402\n",
              "jumping                1.474633\n",
              "stamina                0.454402\n",
              "strength               0.454402\n",
              "long_shots             0.454402\n",
              "aggression             0.454402\n",
              "interceptions          0.454402\n",
              "positioning            0.454402\n",
              "vision                 1.474633\n",
              "penalties              0.454402\n",
              "marking                0.454402\n",
              "standing_tackle        0.454402\n",
              "sliding_tackle         1.474633\n",
              "gk_diving              0.454402\n",
              "gk_handling            0.454402\n",
              "gk_kicking             0.454402\n",
              "gk_positioning         0.454402\n",
              "gk_reflexes            0.454402\n",
              "dtype: float64"
            ]
          },
          "metadata": {},
          "execution_count": 11
        }
      ],
      "source": [
        "# Percentage of missing values from dataset\n",
        "player_df.isna().sum() / player_df.shape[0] * 100"
      ]
    },
    {
      "cell_type": "code",
      "execution_count": 12,
      "metadata": {
        "colab": {
          "base_uri": "https://localhost:8080/"
        },
        "id": "VGZtpYsOZ5Fj",
        "outputId": "e805ea08-15ab-43f3-bb33-fdbceceb3c6c"
      },
      "outputs": [
        {
          "output_type": "execute_result",
          "data": {
            "text/plain": [
              "1"
            ]
          },
          "metadata": {},
          "execution_count": 12
        }
      ],
      "source": [
        "# Number of duplicated values \n",
        "player_df.duplicated().sum()"
      ]
    },
    {
      "cell_type": "code",
      "execution_count": 13,
      "metadata": {
        "colab": {
          "base_uri": "https://localhost:8080/",
          "height": 162
        },
        "id": "hG9_j4NkaDII",
        "outputId": "2fee4319-d8fb-4c48-aff3-a9d087e4655b"
      },
      "outputs": [
        {
          "output_type": "execute_result",
          "data": {
            "text/plain": [
              "       player_api_id  player_name  player_fifa_api_id             birthday  \\\n",
              "84924          32968  John Potter               51384  1979-12-15 00:00:00   \n",
              "\n",
              "       height  weight                 date  overall_rating  potential  \\\n",
              "84924  185.42     183  2007-02-22 00:00:00             NaN        NaN   \n",
              "\n",
              "      preferred_foot attacking_work_rate defensive_work_rate  crossing  \\\n",
              "84924           None                None                None       NaN   \n",
              "\n",
              "       finishing  heading_accuracy  short_passing  volleys  dribbling  curve  \\\n",
              "84924        NaN               NaN            NaN      NaN        NaN    NaN   \n",
              "\n",
              "       free_kick_accuracy  long_passing  ball_control  acceleration  \\\n",
              "84924                 NaN           NaN           NaN           NaN   \n",
              "\n",
              "       sprint_speed  agility  reactions  balance  shot_power  jumping  \\\n",
              "84924           NaN      NaN        NaN      NaN         NaN      NaN   \n",
              "\n",
              "       stamina  strength  long_shots  aggression  interceptions  positioning  \\\n",
              "84924      NaN       NaN         NaN         NaN            NaN          NaN   \n",
              "\n",
              "       vision  penalties  marking  standing_tackle  sliding_tackle  gk_diving  \\\n",
              "84924     NaN        NaN      NaN              NaN             NaN        NaN   \n",
              "\n",
              "       gk_handling  gk_kicking  gk_positioning  gk_reflexes  \n",
              "84924          NaN         NaN             NaN          NaN  "
            ],
            "text/html": [
              "\n",
              "  <div id=\"df-18b0998e-ddbd-4ee8-b026-c4041cec4015\">\n",
              "    <div class=\"colab-df-container\">\n",
              "      <div>\n",
              "<style scoped>\n",
              "    .dataframe tbody tr th:only-of-type {\n",
              "        vertical-align: middle;\n",
              "    }\n",
              "\n",
              "    .dataframe tbody tr th {\n",
              "        vertical-align: top;\n",
              "    }\n",
              "\n",
              "    .dataframe thead th {\n",
              "        text-align: right;\n",
              "    }\n",
              "</style>\n",
              "<table border=\"1\" class=\"dataframe\">\n",
              "  <thead>\n",
              "    <tr style=\"text-align: right;\">\n",
              "      <th></th>\n",
              "      <th>player_api_id</th>\n",
              "      <th>player_name</th>\n",
              "      <th>player_fifa_api_id</th>\n",
              "      <th>birthday</th>\n",
              "      <th>height</th>\n",
              "      <th>weight</th>\n",
              "      <th>date</th>\n",
              "      <th>overall_rating</th>\n",
              "      <th>potential</th>\n",
              "      <th>preferred_foot</th>\n",
              "      <th>attacking_work_rate</th>\n",
              "      <th>defensive_work_rate</th>\n",
              "      <th>crossing</th>\n",
              "      <th>finishing</th>\n",
              "      <th>heading_accuracy</th>\n",
              "      <th>short_passing</th>\n",
              "      <th>volleys</th>\n",
              "      <th>dribbling</th>\n",
              "      <th>curve</th>\n",
              "      <th>free_kick_accuracy</th>\n",
              "      <th>long_passing</th>\n",
              "      <th>ball_control</th>\n",
              "      <th>acceleration</th>\n",
              "      <th>sprint_speed</th>\n",
              "      <th>agility</th>\n",
              "      <th>reactions</th>\n",
              "      <th>balance</th>\n",
              "      <th>shot_power</th>\n",
              "      <th>jumping</th>\n",
              "      <th>stamina</th>\n",
              "      <th>strength</th>\n",
              "      <th>long_shots</th>\n",
              "      <th>aggression</th>\n",
              "      <th>interceptions</th>\n",
              "      <th>positioning</th>\n",
              "      <th>vision</th>\n",
              "      <th>penalties</th>\n",
              "      <th>marking</th>\n",
              "      <th>standing_tackle</th>\n",
              "      <th>sliding_tackle</th>\n",
              "      <th>gk_diving</th>\n",
              "      <th>gk_handling</th>\n",
              "      <th>gk_kicking</th>\n",
              "      <th>gk_positioning</th>\n",
              "      <th>gk_reflexes</th>\n",
              "    </tr>\n",
              "  </thead>\n",
              "  <tbody>\n",
              "    <tr>\n",
              "      <th>84924</th>\n",
              "      <td>32968</td>\n",
              "      <td>John Potter</td>\n",
              "      <td>51384</td>\n",
              "      <td>1979-12-15 00:00:00</td>\n",
              "      <td>185.42</td>\n",
              "      <td>183</td>\n",
              "      <td>2007-02-22 00:00:00</td>\n",
              "      <td>NaN</td>\n",
              "      <td>NaN</td>\n",
              "      <td>None</td>\n",
              "      <td>None</td>\n",
              "      <td>None</td>\n",
              "      <td>NaN</td>\n",
              "      <td>NaN</td>\n",
              "      <td>NaN</td>\n",
              "      <td>NaN</td>\n",
              "      <td>NaN</td>\n",
              "      <td>NaN</td>\n",
              "      <td>NaN</td>\n",
              "      <td>NaN</td>\n",
              "      <td>NaN</td>\n",
              "      <td>NaN</td>\n",
              "      <td>NaN</td>\n",
              "      <td>NaN</td>\n",
              "      <td>NaN</td>\n",
              "      <td>NaN</td>\n",
              "      <td>NaN</td>\n",
              "      <td>NaN</td>\n",
              "      <td>NaN</td>\n",
              "      <td>NaN</td>\n",
              "      <td>NaN</td>\n",
              "      <td>NaN</td>\n",
              "      <td>NaN</td>\n",
              "      <td>NaN</td>\n",
              "      <td>NaN</td>\n",
              "      <td>NaN</td>\n",
              "      <td>NaN</td>\n",
              "      <td>NaN</td>\n",
              "      <td>NaN</td>\n",
              "      <td>NaN</td>\n",
              "      <td>NaN</td>\n",
              "      <td>NaN</td>\n",
              "      <td>NaN</td>\n",
              "      <td>NaN</td>\n",
              "      <td>NaN</td>\n",
              "    </tr>\n",
              "  </tbody>\n",
              "</table>\n",
              "</div>\n",
              "      <button class=\"colab-df-convert\" onclick=\"convertToInteractive('df-18b0998e-ddbd-4ee8-b026-c4041cec4015')\"\n",
              "              title=\"Convert this dataframe to an interactive table.\"\n",
              "              style=\"display:none;\">\n",
              "        \n",
              "  <svg xmlns=\"http://www.w3.org/2000/svg\" height=\"24px\"viewBox=\"0 0 24 24\"\n",
              "       width=\"24px\">\n",
              "    <path d=\"M0 0h24v24H0V0z\" fill=\"none\"/>\n",
              "    <path d=\"M18.56 5.44l.94 2.06.94-2.06 2.06-.94-2.06-.94-.94-2.06-.94 2.06-2.06.94zm-11 1L8.5 8.5l.94-2.06 2.06-.94-2.06-.94L8.5 2.5l-.94 2.06-2.06.94zm10 10l.94 2.06.94-2.06 2.06-.94-2.06-.94-.94-2.06-.94 2.06-2.06.94z\"/><path d=\"M17.41 7.96l-1.37-1.37c-.4-.4-.92-.59-1.43-.59-.52 0-1.04.2-1.43.59L10.3 9.45l-7.72 7.72c-.78.78-.78 2.05 0 2.83L4 21.41c.39.39.9.59 1.41.59.51 0 1.02-.2 1.41-.59l7.78-7.78 2.81-2.81c.8-.78.8-2.07 0-2.86zM5.41 20L4 18.59l7.72-7.72 1.47 1.35L5.41 20z\"/>\n",
              "  </svg>\n",
              "      </button>\n",
              "      \n",
              "  <style>\n",
              "    .colab-df-container {\n",
              "      display:flex;\n",
              "      flex-wrap:wrap;\n",
              "      gap: 12px;\n",
              "    }\n",
              "\n",
              "    .colab-df-convert {\n",
              "      background-color: #E8F0FE;\n",
              "      border: none;\n",
              "      border-radius: 50%;\n",
              "      cursor: pointer;\n",
              "      display: none;\n",
              "      fill: #1967D2;\n",
              "      height: 32px;\n",
              "      padding: 0 0 0 0;\n",
              "      width: 32px;\n",
              "    }\n",
              "\n",
              "    .colab-df-convert:hover {\n",
              "      background-color: #E2EBFA;\n",
              "      box-shadow: 0px 1px 2px rgba(60, 64, 67, 0.3), 0px 1px 3px 1px rgba(60, 64, 67, 0.15);\n",
              "      fill: #174EA6;\n",
              "    }\n",
              "\n",
              "    [theme=dark] .colab-df-convert {\n",
              "      background-color: #3B4455;\n",
              "      fill: #D2E3FC;\n",
              "    }\n",
              "\n",
              "    [theme=dark] .colab-df-convert:hover {\n",
              "      background-color: #434B5C;\n",
              "      box-shadow: 0px 1px 3px 1px rgba(0, 0, 0, 0.15);\n",
              "      filter: drop-shadow(0px 1px 2px rgba(0, 0, 0, 0.3));\n",
              "      fill: #FFFFFF;\n",
              "    }\n",
              "  </style>\n",
              "\n",
              "      <script>\n",
              "        const buttonEl =\n",
              "          document.querySelector('#df-18b0998e-ddbd-4ee8-b026-c4041cec4015 button.colab-df-convert');\n",
              "        buttonEl.style.display =\n",
              "          google.colab.kernel.accessAllowed ? 'block' : 'none';\n",
              "\n",
              "        async function convertToInteractive(key) {\n",
              "          const element = document.querySelector('#df-18b0998e-ddbd-4ee8-b026-c4041cec4015');\n",
              "          const dataTable =\n",
              "            await google.colab.kernel.invokeFunction('convertToInteractive',\n",
              "                                                     [key], {});\n",
              "          if (!dataTable) return;\n",
              "\n",
              "          const docLinkHtml = 'Like what you see? Visit the ' +\n",
              "            '<a target=\"_blank\" href=https://colab.research.google.com/notebooks/data_table.ipynb>data table notebook</a>'\n",
              "            + ' to learn more about interactive tables.';\n",
              "          element.innerHTML = '';\n",
              "          dataTable['output_type'] = 'display_data';\n",
              "          await google.colab.output.renderOutput(dataTable, element);\n",
              "          const docLink = document.createElement('div');\n",
              "          docLink.innerHTML = docLinkHtml;\n",
              "          element.appendChild(docLink);\n",
              "        }\n",
              "      </script>\n",
              "    </div>\n",
              "  </div>\n",
              "  "
            ]
          },
          "metadata": {},
          "execution_count": 13
        }
      ],
      "source": [
        "player_df[player_df.duplicated()]"
      ]
    },
    {
      "cell_type": "code",
      "execution_count": 14,
      "metadata": {
        "colab": {
          "base_uri": "https://localhost:8080/",
          "height": 260
        },
        "id": "qe8NZ0kvaU2x",
        "outputId": "8d86dea0-0d15-4d43-8adf-7f2e1bc2662d"
      },
      "outputs": [
        {
          "output_type": "execute_result",
          "data": {
            "text/plain": [
              "       player_api_id  player_name  player_fifa_api_id             birthday  \\\n",
              "84698          32968  John Potter               51384  1979-12-15 00:00:00   \n",
              "84923          32968  John Potter               51384  1979-12-15 00:00:00   \n",
              "84924          32968  John Potter               51384  1979-12-15 00:00:00   \n",
              "\n",
              "       height  weight                 date  overall_rating  potential  \\\n",
              "84698  185.42     183  2007-02-22 00:00:00            74.0       76.0   \n",
              "84923  185.42     183  2007-02-22 00:00:00             NaN        NaN   \n",
              "84924  185.42     183  2007-02-22 00:00:00             NaN        NaN   \n",
              "\n",
              "      preferred_foot attacking_work_rate defensive_work_rate  crossing  \\\n",
              "84698          right                None                   3      52.0   \n",
              "84923           None                None                None       NaN   \n",
              "84924           None                None                None       NaN   \n",
              "\n",
              "       finishing  heading_accuracy  short_passing  volleys  dribbling  curve  \\\n",
              "84698       77.0              64.0           46.0     63.0       61.0   54.0   \n",
              "84923        NaN               NaN            NaN      NaN        NaN    NaN   \n",
              "84924        NaN               NaN            NaN      NaN        NaN    NaN   \n",
              "\n",
              "       free_kick_accuracy  long_passing  ball_control  acceleration  \\\n",
              "84698                67.0          24.0          66.0          74.0   \n",
              "84923                 NaN           NaN           NaN           NaN   \n",
              "84924                 NaN           NaN           NaN           NaN   \n",
              "\n",
              "       sprint_speed  agility  reactions  balance  shot_power  jumping  \\\n",
              "84698          81.0     64.0       62.0     75.0        69.0     87.0   \n",
              "84923           NaN      NaN        NaN      NaN         NaN      NaN   \n",
              "84924           NaN      NaN        NaN      NaN         NaN      NaN   \n",
              "\n",
              "       stamina  strength  long_shots  aggression  interceptions  positioning  \\\n",
              "84698     89.0      82.0        68.0        24.0           64.0         84.0   \n",
              "84923      NaN       NaN         NaN         NaN            NaN          NaN   \n",
              "84924      NaN       NaN         NaN         NaN            NaN          NaN   \n",
              "\n",
              "       vision  penalties  marking  standing_tackle  sliding_tackle  gk_diving  \\\n",
              "84698    62.0       67.0     22.0             24.0            44.0       20.0   \n",
              "84923     NaN        NaN      NaN              NaN             NaN        NaN   \n",
              "84924     NaN        NaN      NaN              NaN             NaN        NaN   \n",
              "\n",
              "       gk_handling  gk_kicking  gk_positioning  gk_reflexes  \n",
              "84698         20.0        24.0            12.0         19.0  \n",
              "84923          NaN         NaN             NaN          NaN  \n",
              "84924          NaN         NaN             NaN          NaN  "
            ],
            "text/html": [
              "\n",
              "  <div id=\"df-8d6beee3-9578-49cd-b89d-555727e1aeb8\">\n",
              "    <div class=\"colab-df-container\">\n",
              "      <div>\n",
              "<style scoped>\n",
              "    .dataframe tbody tr th:only-of-type {\n",
              "        vertical-align: middle;\n",
              "    }\n",
              "\n",
              "    .dataframe tbody tr th {\n",
              "        vertical-align: top;\n",
              "    }\n",
              "\n",
              "    .dataframe thead th {\n",
              "        text-align: right;\n",
              "    }\n",
              "</style>\n",
              "<table border=\"1\" class=\"dataframe\">\n",
              "  <thead>\n",
              "    <tr style=\"text-align: right;\">\n",
              "      <th></th>\n",
              "      <th>player_api_id</th>\n",
              "      <th>player_name</th>\n",
              "      <th>player_fifa_api_id</th>\n",
              "      <th>birthday</th>\n",
              "      <th>height</th>\n",
              "      <th>weight</th>\n",
              "      <th>date</th>\n",
              "      <th>overall_rating</th>\n",
              "      <th>potential</th>\n",
              "      <th>preferred_foot</th>\n",
              "      <th>attacking_work_rate</th>\n",
              "      <th>defensive_work_rate</th>\n",
              "      <th>crossing</th>\n",
              "      <th>finishing</th>\n",
              "      <th>heading_accuracy</th>\n",
              "      <th>short_passing</th>\n",
              "      <th>volleys</th>\n",
              "      <th>dribbling</th>\n",
              "      <th>curve</th>\n",
              "      <th>free_kick_accuracy</th>\n",
              "      <th>long_passing</th>\n",
              "      <th>ball_control</th>\n",
              "      <th>acceleration</th>\n",
              "      <th>sprint_speed</th>\n",
              "      <th>agility</th>\n",
              "      <th>reactions</th>\n",
              "      <th>balance</th>\n",
              "      <th>shot_power</th>\n",
              "      <th>jumping</th>\n",
              "      <th>stamina</th>\n",
              "      <th>strength</th>\n",
              "      <th>long_shots</th>\n",
              "      <th>aggression</th>\n",
              "      <th>interceptions</th>\n",
              "      <th>positioning</th>\n",
              "      <th>vision</th>\n",
              "      <th>penalties</th>\n",
              "      <th>marking</th>\n",
              "      <th>standing_tackle</th>\n",
              "      <th>sliding_tackle</th>\n",
              "      <th>gk_diving</th>\n",
              "      <th>gk_handling</th>\n",
              "      <th>gk_kicking</th>\n",
              "      <th>gk_positioning</th>\n",
              "      <th>gk_reflexes</th>\n",
              "    </tr>\n",
              "  </thead>\n",
              "  <tbody>\n",
              "    <tr>\n",
              "      <th>84698</th>\n",
              "      <td>32968</td>\n",
              "      <td>John Potter</td>\n",
              "      <td>51384</td>\n",
              "      <td>1979-12-15 00:00:00</td>\n",
              "      <td>185.42</td>\n",
              "      <td>183</td>\n",
              "      <td>2007-02-22 00:00:00</td>\n",
              "      <td>74.0</td>\n",
              "      <td>76.0</td>\n",
              "      <td>right</td>\n",
              "      <td>None</td>\n",
              "      <td>3</td>\n",
              "      <td>52.0</td>\n",
              "      <td>77.0</td>\n",
              "      <td>64.0</td>\n",
              "      <td>46.0</td>\n",
              "      <td>63.0</td>\n",
              "      <td>61.0</td>\n",
              "      <td>54.0</td>\n",
              "      <td>67.0</td>\n",
              "      <td>24.0</td>\n",
              "      <td>66.0</td>\n",
              "      <td>74.0</td>\n",
              "      <td>81.0</td>\n",
              "      <td>64.0</td>\n",
              "      <td>62.0</td>\n",
              "      <td>75.0</td>\n",
              "      <td>69.0</td>\n",
              "      <td>87.0</td>\n",
              "      <td>89.0</td>\n",
              "      <td>82.0</td>\n",
              "      <td>68.0</td>\n",
              "      <td>24.0</td>\n",
              "      <td>64.0</td>\n",
              "      <td>84.0</td>\n",
              "      <td>62.0</td>\n",
              "      <td>67.0</td>\n",
              "      <td>22.0</td>\n",
              "      <td>24.0</td>\n",
              "      <td>44.0</td>\n",
              "      <td>20.0</td>\n",
              "      <td>20.0</td>\n",
              "      <td>24.0</td>\n",
              "      <td>12.0</td>\n",
              "      <td>19.0</td>\n",
              "    </tr>\n",
              "    <tr>\n",
              "      <th>84923</th>\n",
              "      <td>32968</td>\n",
              "      <td>John Potter</td>\n",
              "      <td>51384</td>\n",
              "      <td>1979-12-15 00:00:00</td>\n",
              "      <td>185.42</td>\n",
              "      <td>183</td>\n",
              "      <td>2007-02-22 00:00:00</td>\n",
              "      <td>NaN</td>\n",
              "      <td>NaN</td>\n",
              "      <td>None</td>\n",
              "      <td>None</td>\n",
              "      <td>None</td>\n",
              "      <td>NaN</td>\n",
              "      <td>NaN</td>\n",
              "      <td>NaN</td>\n",
              "      <td>NaN</td>\n",
              "      <td>NaN</td>\n",
              "      <td>NaN</td>\n",
              "      <td>NaN</td>\n",
              "      <td>NaN</td>\n",
              "      <td>NaN</td>\n",
              "      <td>NaN</td>\n",
              "      <td>NaN</td>\n",
              "      <td>NaN</td>\n",
              "      <td>NaN</td>\n",
              "      <td>NaN</td>\n",
              "      <td>NaN</td>\n",
              "      <td>NaN</td>\n",
              "      <td>NaN</td>\n",
              "      <td>NaN</td>\n",
              "      <td>NaN</td>\n",
              "      <td>NaN</td>\n",
              "      <td>NaN</td>\n",
              "      <td>NaN</td>\n",
              "      <td>NaN</td>\n",
              "      <td>NaN</td>\n",
              "      <td>NaN</td>\n",
              "      <td>NaN</td>\n",
              "      <td>NaN</td>\n",
              "      <td>NaN</td>\n",
              "      <td>NaN</td>\n",
              "      <td>NaN</td>\n",
              "      <td>NaN</td>\n",
              "      <td>NaN</td>\n",
              "      <td>NaN</td>\n",
              "    </tr>\n",
              "    <tr>\n",
              "      <th>84924</th>\n",
              "      <td>32968</td>\n",
              "      <td>John Potter</td>\n",
              "      <td>51384</td>\n",
              "      <td>1979-12-15 00:00:00</td>\n",
              "      <td>185.42</td>\n",
              "      <td>183</td>\n",
              "      <td>2007-02-22 00:00:00</td>\n",
              "      <td>NaN</td>\n",
              "      <td>NaN</td>\n",
              "      <td>None</td>\n",
              "      <td>None</td>\n",
              "      <td>None</td>\n",
              "      <td>NaN</td>\n",
              "      <td>NaN</td>\n",
              "      <td>NaN</td>\n",
              "      <td>NaN</td>\n",
              "      <td>NaN</td>\n",
              "      <td>NaN</td>\n",
              "      <td>NaN</td>\n",
              "      <td>NaN</td>\n",
              "      <td>NaN</td>\n",
              "      <td>NaN</td>\n",
              "      <td>NaN</td>\n",
              "      <td>NaN</td>\n",
              "      <td>NaN</td>\n",
              "      <td>NaN</td>\n",
              "      <td>NaN</td>\n",
              "      <td>NaN</td>\n",
              "      <td>NaN</td>\n",
              "      <td>NaN</td>\n",
              "      <td>NaN</td>\n",
              "      <td>NaN</td>\n",
              "      <td>NaN</td>\n",
              "      <td>NaN</td>\n",
              "      <td>NaN</td>\n",
              "      <td>NaN</td>\n",
              "      <td>NaN</td>\n",
              "      <td>NaN</td>\n",
              "      <td>NaN</td>\n",
              "      <td>NaN</td>\n",
              "      <td>NaN</td>\n",
              "      <td>NaN</td>\n",
              "      <td>NaN</td>\n",
              "      <td>NaN</td>\n",
              "      <td>NaN</td>\n",
              "    </tr>\n",
              "  </tbody>\n",
              "</table>\n",
              "</div>\n",
              "      <button class=\"colab-df-convert\" onclick=\"convertToInteractive('df-8d6beee3-9578-49cd-b89d-555727e1aeb8')\"\n",
              "              title=\"Convert this dataframe to an interactive table.\"\n",
              "              style=\"display:none;\">\n",
              "        \n",
              "  <svg xmlns=\"http://www.w3.org/2000/svg\" height=\"24px\"viewBox=\"0 0 24 24\"\n",
              "       width=\"24px\">\n",
              "    <path d=\"M0 0h24v24H0V0z\" fill=\"none\"/>\n",
              "    <path d=\"M18.56 5.44l.94 2.06.94-2.06 2.06-.94-2.06-.94-.94-2.06-.94 2.06-2.06.94zm-11 1L8.5 8.5l.94-2.06 2.06-.94-2.06-.94L8.5 2.5l-.94 2.06-2.06.94zm10 10l.94 2.06.94-2.06 2.06-.94-2.06-.94-.94-2.06-.94 2.06-2.06.94z\"/><path d=\"M17.41 7.96l-1.37-1.37c-.4-.4-.92-.59-1.43-.59-.52 0-1.04.2-1.43.59L10.3 9.45l-7.72 7.72c-.78.78-.78 2.05 0 2.83L4 21.41c.39.39.9.59 1.41.59.51 0 1.02-.2 1.41-.59l7.78-7.78 2.81-2.81c.8-.78.8-2.07 0-2.86zM5.41 20L4 18.59l7.72-7.72 1.47 1.35L5.41 20z\"/>\n",
              "  </svg>\n",
              "      </button>\n",
              "      \n",
              "  <style>\n",
              "    .colab-df-container {\n",
              "      display:flex;\n",
              "      flex-wrap:wrap;\n",
              "      gap: 12px;\n",
              "    }\n",
              "\n",
              "    .colab-df-convert {\n",
              "      background-color: #E8F0FE;\n",
              "      border: none;\n",
              "      border-radius: 50%;\n",
              "      cursor: pointer;\n",
              "      display: none;\n",
              "      fill: #1967D2;\n",
              "      height: 32px;\n",
              "      padding: 0 0 0 0;\n",
              "      width: 32px;\n",
              "    }\n",
              "\n",
              "    .colab-df-convert:hover {\n",
              "      background-color: #E2EBFA;\n",
              "      box-shadow: 0px 1px 2px rgba(60, 64, 67, 0.3), 0px 1px 3px 1px rgba(60, 64, 67, 0.15);\n",
              "      fill: #174EA6;\n",
              "    }\n",
              "\n",
              "    [theme=dark] .colab-df-convert {\n",
              "      background-color: #3B4455;\n",
              "      fill: #D2E3FC;\n",
              "    }\n",
              "\n",
              "    [theme=dark] .colab-df-convert:hover {\n",
              "      background-color: #434B5C;\n",
              "      box-shadow: 0px 1px 3px 1px rgba(0, 0, 0, 0.15);\n",
              "      filter: drop-shadow(0px 1px 2px rgba(0, 0, 0, 0.3));\n",
              "      fill: #FFFFFF;\n",
              "    }\n",
              "  </style>\n",
              "\n",
              "      <script>\n",
              "        const buttonEl =\n",
              "          document.querySelector('#df-8d6beee3-9578-49cd-b89d-555727e1aeb8 button.colab-df-convert');\n",
              "        buttonEl.style.display =\n",
              "          google.colab.kernel.accessAllowed ? 'block' : 'none';\n",
              "\n",
              "        async function convertToInteractive(key) {\n",
              "          const element = document.querySelector('#df-8d6beee3-9578-49cd-b89d-555727e1aeb8');\n",
              "          const dataTable =\n",
              "            await google.colab.kernel.invokeFunction('convertToInteractive',\n",
              "                                                     [key], {});\n",
              "          if (!dataTable) return;\n",
              "\n",
              "          const docLinkHtml = 'Like what you see? Visit the ' +\n",
              "            '<a target=\"_blank\" href=https://colab.research.google.com/notebooks/data_table.ipynb>data table notebook</a>'\n",
              "            + ' to learn more about interactive tables.';\n",
              "          element.innerHTML = '';\n",
              "          dataTable['output_type'] = 'display_data';\n",
              "          await google.colab.output.renderOutput(dataTable, element);\n",
              "          const docLink = document.createElement('div');\n",
              "          docLink.innerHTML = docLinkHtml;\n",
              "          element.appendChild(docLink);\n",
              "        }\n",
              "      </script>\n",
              "    </div>\n",
              "  </div>\n",
              "  "
            ]
          },
          "metadata": {},
          "execution_count": 14
        }
      ],
      "source": [
        "player_df.query('player_api_id == 32968 & date == \"2007-02-22 00:00:00\"')"
      ]
    },
    {
      "cell_type": "markdown",
      "source": [
        "\n",
        "**Some issues with `player_df` dataframe:**\n",
        "\n",
        "*   Incorrect datatypes. `Date` needs to be converted to datetime\n",
        "*   Some columns have a small percentage of missing data. We can fill them with the mean values.\n",
        "*   Dataframe contains duplicate values. \n",
        "\n"
      ],
      "metadata": {
        "id": "GhAv_zES4grR"
      }
    },
    {
      "cell_type": "code",
      "execution_count": 15,
      "metadata": {
        "id": "fLpqzlfxYIOr"
      },
      "outputs": [],
      "source": [
        "# Join tables and select columns for analysis\n",
        "team_query = \"\"\"\n",
        "SELECT \n",
        "tm.team_api_id, tm.team_fifa_api_id, team_long_name, team_short_name, date, buildUpPlaySpeed, \n",
        "buildUpPlaySpeedClass, buildUpPlayDribbling, buildUpPlayDribblingClass, buildUpPlayPassing, \t\n",
        "buildUpPlayPassingClass, buildUpPlayPositioningClass, chanceCreationPassing, \n",
        "chanceCreationPassingClass, chanceCreationCrossing, chanceCreationCrossingClass, \n",
        "chanceCreationShooting, chanceCreationShootingClass, chanceCreationPositioningClass, \n",
        "defencePressure, defencePressureClass, defenceAggression, defenceAggressionClass, \n",
        "defenceTeamWidth, defenceTeamWidthClass, defenceDefenderLineClass\n",
        " FROM Team tm\n",
        "JOIN Team_Attributes tma\n",
        "ON tm.team_api_id = tma.team_api_id\n",
        "\"\"\""
      ]
    },
    {
      "cell_type": "code",
      "source": [
        "# Create dataframe using pd.read_sql_query\n",
        "team_df = pd.read_sql_query(team_query, dbcon)"
      ],
      "metadata": {
        "id": "48bzOMnU8oDi"
      },
      "execution_count": 16,
      "outputs": []
    },
    {
      "cell_type": "code",
      "execution_count": 17,
      "metadata": {
        "colab": {
          "base_uri": "https://localhost:8080/",
          "height": 357
        },
        "id": "Iu48KEXO4awk",
        "outputId": "587f094d-157d-4a28-ec87-7ff4f1d367f0"
      },
      "outputs": [
        {
          "output_type": "execute_result",
          "data": {
            "text/plain": [
              "   team_api_id  team_fifa_api_id team_long_name team_short_name  \\\n",
              "0         9930               434       FC Aarau             AAR   \n",
              "1         9930               434       FC Aarau             AAR   \n",
              "2         9930               434       FC Aarau             AAR   \n",
              "3         8485                77       Aberdeen             ABE   \n",
              "4         8485                77       Aberdeen             ABE   \n",
              "\n",
              "                  date  buildUpPlaySpeed buildUpPlaySpeedClass  \\\n",
              "0  2010-02-22 00:00:00                60              Balanced   \n",
              "1  2014-09-19 00:00:00                52              Balanced   \n",
              "2  2015-09-10 00:00:00                47              Balanced   \n",
              "3  2010-02-22 00:00:00                70                  Fast   \n",
              "4  2011-02-22 00:00:00                47              Balanced   \n",
              "\n",
              "   buildUpPlayDribbling buildUpPlayDribblingClass  buildUpPlayPassing  \\\n",
              "0                   NaN                    Little                  50   \n",
              "1                  48.0                    Normal                  56   \n",
              "2                  41.0                    Normal                  54   \n",
              "3                   NaN                    Little                  70   \n",
              "4                   NaN                    Little                  52   \n",
              "\n",
              "  buildUpPlayPassingClass buildUpPlayPositioningClass  chanceCreationPassing  \\\n",
              "0                   Mixed                   Organised                     60   \n",
              "1                   Mixed                   Organised                     54   \n",
              "2                   Mixed                   Organised                     54   \n",
              "3                    Long                   Organised                     70   \n",
              "4                   Mixed                   Organised                     53   \n",
              "\n",
              "  chanceCreationPassingClass  chanceCreationCrossing  \\\n",
              "0                     Normal                      65   \n",
              "1                     Normal                      63   \n",
              "2                     Normal                      63   \n",
              "3                      Risky                      70   \n",
              "4                     Normal                      48   \n",
              "\n",
              "  chanceCreationCrossingClass  chanceCreationShooting  \\\n",
              "0                      Normal                      55   \n",
              "1                      Normal                      64   \n",
              "2                      Normal                      64   \n",
              "3                        Lots                      70   \n",
              "4                      Normal                      52   \n",
              "\n",
              "  chanceCreationShootingClass chanceCreationPositioningClass  defencePressure  \\\n",
              "0                      Normal                      Organised               50   \n",
              "1                      Normal                      Organised               47   \n",
              "2                      Normal                      Organised               47   \n",
              "3                        Lots                      Organised               60   \n",
              "4                      Normal                      Organised               47   \n",
              "\n",
              "  defencePressureClass  defenceAggression defenceAggressionClass  \\\n",
              "0               Medium                 55                  Press   \n",
              "1               Medium                 44                  Press   \n",
              "2               Medium                 44                  Press   \n",
              "3               Medium                 70                 Double   \n",
              "4               Medium                 47                  Press   \n",
              "\n",
              "   defenceTeamWidth defenceTeamWidthClass defenceDefenderLineClass  \n",
              "0                45                Normal                    Cover  \n",
              "1                54                Normal                    Cover  \n",
              "2                54                Normal                    Cover  \n",
              "3                70                  Wide                    Cover  \n",
              "4                52                Normal                    Cover  "
            ],
            "text/html": [
              "\n",
              "  <div id=\"df-6fa79b23-57dd-4389-8aa4-20bd3f1a3da6\">\n",
              "    <div class=\"colab-df-container\">\n",
              "      <div>\n",
              "<style scoped>\n",
              "    .dataframe tbody tr th:only-of-type {\n",
              "        vertical-align: middle;\n",
              "    }\n",
              "\n",
              "    .dataframe tbody tr th {\n",
              "        vertical-align: top;\n",
              "    }\n",
              "\n",
              "    .dataframe thead th {\n",
              "        text-align: right;\n",
              "    }\n",
              "</style>\n",
              "<table border=\"1\" class=\"dataframe\">\n",
              "  <thead>\n",
              "    <tr style=\"text-align: right;\">\n",
              "      <th></th>\n",
              "      <th>team_api_id</th>\n",
              "      <th>team_fifa_api_id</th>\n",
              "      <th>team_long_name</th>\n",
              "      <th>team_short_name</th>\n",
              "      <th>date</th>\n",
              "      <th>buildUpPlaySpeed</th>\n",
              "      <th>buildUpPlaySpeedClass</th>\n",
              "      <th>buildUpPlayDribbling</th>\n",
              "      <th>buildUpPlayDribblingClass</th>\n",
              "      <th>buildUpPlayPassing</th>\n",
              "      <th>buildUpPlayPassingClass</th>\n",
              "      <th>buildUpPlayPositioningClass</th>\n",
              "      <th>chanceCreationPassing</th>\n",
              "      <th>chanceCreationPassingClass</th>\n",
              "      <th>chanceCreationCrossing</th>\n",
              "      <th>chanceCreationCrossingClass</th>\n",
              "      <th>chanceCreationShooting</th>\n",
              "      <th>chanceCreationShootingClass</th>\n",
              "      <th>chanceCreationPositioningClass</th>\n",
              "      <th>defencePressure</th>\n",
              "      <th>defencePressureClass</th>\n",
              "      <th>defenceAggression</th>\n",
              "      <th>defenceAggressionClass</th>\n",
              "      <th>defenceTeamWidth</th>\n",
              "      <th>defenceTeamWidthClass</th>\n",
              "      <th>defenceDefenderLineClass</th>\n",
              "    </tr>\n",
              "  </thead>\n",
              "  <tbody>\n",
              "    <tr>\n",
              "      <th>0</th>\n",
              "      <td>9930</td>\n",
              "      <td>434</td>\n",
              "      <td>FC Aarau</td>\n",
              "      <td>AAR</td>\n",
              "      <td>2010-02-22 00:00:00</td>\n",
              "      <td>60</td>\n",
              "      <td>Balanced</td>\n",
              "      <td>NaN</td>\n",
              "      <td>Little</td>\n",
              "      <td>50</td>\n",
              "      <td>Mixed</td>\n",
              "      <td>Organised</td>\n",
              "      <td>60</td>\n",
              "      <td>Normal</td>\n",
              "      <td>65</td>\n",
              "      <td>Normal</td>\n",
              "      <td>55</td>\n",
              "      <td>Normal</td>\n",
              "      <td>Organised</td>\n",
              "      <td>50</td>\n",
              "      <td>Medium</td>\n",
              "      <td>55</td>\n",
              "      <td>Press</td>\n",
              "      <td>45</td>\n",
              "      <td>Normal</td>\n",
              "      <td>Cover</td>\n",
              "    </tr>\n",
              "    <tr>\n",
              "      <th>1</th>\n",
              "      <td>9930</td>\n",
              "      <td>434</td>\n",
              "      <td>FC Aarau</td>\n",
              "      <td>AAR</td>\n",
              "      <td>2014-09-19 00:00:00</td>\n",
              "      <td>52</td>\n",
              "      <td>Balanced</td>\n",
              "      <td>48.0</td>\n",
              "      <td>Normal</td>\n",
              "      <td>56</td>\n",
              "      <td>Mixed</td>\n",
              "      <td>Organised</td>\n",
              "      <td>54</td>\n",
              "      <td>Normal</td>\n",
              "      <td>63</td>\n",
              "      <td>Normal</td>\n",
              "      <td>64</td>\n",
              "      <td>Normal</td>\n",
              "      <td>Organised</td>\n",
              "      <td>47</td>\n",
              "      <td>Medium</td>\n",
              "      <td>44</td>\n",
              "      <td>Press</td>\n",
              "      <td>54</td>\n",
              "      <td>Normal</td>\n",
              "      <td>Cover</td>\n",
              "    </tr>\n",
              "    <tr>\n",
              "      <th>2</th>\n",
              "      <td>9930</td>\n",
              "      <td>434</td>\n",
              "      <td>FC Aarau</td>\n",
              "      <td>AAR</td>\n",
              "      <td>2015-09-10 00:00:00</td>\n",
              "      <td>47</td>\n",
              "      <td>Balanced</td>\n",
              "      <td>41.0</td>\n",
              "      <td>Normal</td>\n",
              "      <td>54</td>\n",
              "      <td>Mixed</td>\n",
              "      <td>Organised</td>\n",
              "      <td>54</td>\n",
              "      <td>Normal</td>\n",
              "      <td>63</td>\n",
              "      <td>Normal</td>\n",
              "      <td>64</td>\n",
              "      <td>Normal</td>\n",
              "      <td>Organised</td>\n",
              "      <td>47</td>\n",
              "      <td>Medium</td>\n",
              "      <td>44</td>\n",
              "      <td>Press</td>\n",
              "      <td>54</td>\n",
              "      <td>Normal</td>\n",
              "      <td>Cover</td>\n",
              "    </tr>\n",
              "    <tr>\n",
              "      <th>3</th>\n",
              "      <td>8485</td>\n",
              "      <td>77</td>\n",
              "      <td>Aberdeen</td>\n",
              "      <td>ABE</td>\n",
              "      <td>2010-02-22 00:00:00</td>\n",
              "      <td>70</td>\n",
              "      <td>Fast</td>\n",
              "      <td>NaN</td>\n",
              "      <td>Little</td>\n",
              "      <td>70</td>\n",
              "      <td>Long</td>\n",
              "      <td>Organised</td>\n",
              "      <td>70</td>\n",
              "      <td>Risky</td>\n",
              "      <td>70</td>\n",
              "      <td>Lots</td>\n",
              "      <td>70</td>\n",
              "      <td>Lots</td>\n",
              "      <td>Organised</td>\n",
              "      <td>60</td>\n",
              "      <td>Medium</td>\n",
              "      <td>70</td>\n",
              "      <td>Double</td>\n",
              "      <td>70</td>\n",
              "      <td>Wide</td>\n",
              "      <td>Cover</td>\n",
              "    </tr>\n",
              "    <tr>\n",
              "      <th>4</th>\n",
              "      <td>8485</td>\n",
              "      <td>77</td>\n",
              "      <td>Aberdeen</td>\n",
              "      <td>ABE</td>\n",
              "      <td>2011-02-22 00:00:00</td>\n",
              "      <td>47</td>\n",
              "      <td>Balanced</td>\n",
              "      <td>NaN</td>\n",
              "      <td>Little</td>\n",
              "      <td>52</td>\n",
              "      <td>Mixed</td>\n",
              "      <td>Organised</td>\n",
              "      <td>53</td>\n",
              "      <td>Normal</td>\n",
              "      <td>48</td>\n",
              "      <td>Normal</td>\n",
              "      <td>52</td>\n",
              "      <td>Normal</td>\n",
              "      <td>Organised</td>\n",
              "      <td>47</td>\n",
              "      <td>Medium</td>\n",
              "      <td>47</td>\n",
              "      <td>Press</td>\n",
              "      <td>52</td>\n",
              "      <td>Normal</td>\n",
              "      <td>Cover</td>\n",
              "    </tr>\n",
              "  </tbody>\n",
              "</table>\n",
              "</div>\n",
              "      <button class=\"colab-df-convert\" onclick=\"convertToInteractive('df-6fa79b23-57dd-4389-8aa4-20bd3f1a3da6')\"\n",
              "              title=\"Convert this dataframe to an interactive table.\"\n",
              "              style=\"display:none;\">\n",
              "        \n",
              "  <svg xmlns=\"http://www.w3.org/2000/svg\" height=\"24px\"viewBox=\"0 0 24 24\"\n",
              "       width=\"24px\">\n",
              "    <path d=\"M0 0h24v24H0V0z\" fill=\"none\"/>\n",
              "    <path d=\"M18.56 5.44l.94 2.06.94-2.06 2.06-.94-2.06-.94-.94-2.06-.94 2.06-2.06.94zm-11 1L8.5 8.5l.94-2.06 2.06-.94-2.06-.94L8.5 2.5l-.94 2.06-2.06.94zm10 10l.94 2.06.94-2.06 2.06-.94-2.06-.94-.94-2.06-.94 2.06-2.06.94z\"/><path d=\"M17.41 7.96l-1.37-1.37c-.4-.4-.92-.59-1.43-.59-.52 0-1.04.2-1.43.59L10.3 9.45l-7.72 7.72c-.78.78-.78 2.05 0 2.83L4 21.41c.39.39.9.59 1.41.59.51 0 1.02-.2 1.41-.59l7.78-7.78 2.81-2.81c.8-.78.8-2.07 0-2.86zM5.41 20L4 18.59l7.72-7.72 1.47 1.35L5.41 20z\"/>\n",
              "  </svg>\n",
              "      </button>\n",
              "      \n",
              "  <style>\n",
              "    .colab-df-container {\n",
              "      display:flex;\n",
              "      flex-wrap:wrap;\n",
              "      gap: 12px;\n",
              "    }\n",
              "\n",
              "    .colab-df-convert {\n",
              "      background-color: #E8F0FE;\n",
              "      border: none;\n",
              "      border-radius: 50%;\n",
              "      cursor: pointer;\n",
              "      display: none;\n",
              "      fill: #1967D2;\n",
              "      height: 32px;\n",
              "      padding: 0 0 0 0;\n",
              "      width: 32px;\n",
              "    }\n",
              "\n",
              "    .colab-df-convert:hover {\n",
              "      background-color: #E2EBFA;\n",
              "      box-shadow: 0px 1px 2px rgba(60, 64, 67, 0.3), 0px 1px 3px 1px rgba(60, 64, 67, 0.15);\n",
              "      fill: #174EA6;\n",
              "    }\n",
              "\n",
              "    [theme=dark] .colab-df-convert {\n",
              "      background-color: #3B4455;\n",
              "      fill: #D2E3FC;\n",
              "    }\n",
              "\n",
              "    [theme=dark] .colab-df-convert:hover {\n",
              "      background-color: #434B5C;\n",
              "      box-shadow: 0px 1px 3px 1px rgba(0, 0, 0, 0.15);\n",
              "      filter: drop-shadow(0px 1px 2px rgba(0, 0, 0, 0.3));\n",
              "      fill: #FFFFFF;\n",
              "    }\n",
              "  </style>\n",
              "\n",
              "      <script>\n",
              "        const buttonEl =\n",
              "          document.querySelector('#df-6fa79b23-57dd-4389-8aa4-20bd3f1a3da6 button.colab-df-convert');\n",
              "        buttonEl.style.display =\n",
              "          google.colab.kernel.accessAllowed ? 'block' : 'none';\n",
              "\n",
              "        async function convertToInteractive(key) {\n",
              "          const element = document.querySelector('#df-6fa79b23-57dd-4389-8aa4-20bd3f1a3da6');\n",
              "          const dataTable =\n",
              "            await google.colab.kernel.invokeFunction('convertToInteractive',\n",
              "                                                     [key], {});\n",
              "          if (!dataTable) return;\n",
              "\n",
              "          const docLinkHtml = 'Like what you see? Visit the ' +\n",
              "            '<a target=\"_blank\" href=https://colab.research.google.com/notebooks/data_table.ipynb>data table notebook</a>'\n",
              "            + ' to learn more about interactive tables.';\n",
              "          element.innerHTML = '';\n",
              "          dataTable['output_type'] = 'display_data';\n",
              "          await google.colab.output.renderOutput(dataTable, element);\n",
              "          const docLink = document.createElement('div');\n",
              "          docLink.innerHTML = docLinkHtml;\n",
              "          element.appendChild(docLink);\n",
              "        }\n",
              "      </script>\n",
              "    </div>\n",
              "  </div>\n",
              "  "
            ]
          },
          "metadata": {},
          "execution_count": 17
        }
      ],
      "source": [
        "# Overview on Team dataframe\n",
        "team_df.head()"
      ]
    },
    {
      "cell_type": "code",
      "execution_count": 18,
      "metadata": {
        "colab": {
          "base_uri": "https://localhost:8080/"
        },
        "id": "N-C-_ix73pYk",
        "outputId": "9f47bbb7-5d7e-4c92-e94f-bb6bd82ce203"
      },
      "outputs": [
        {
          "output_type": "stream",
          "name": "stdout",
          "text": [
            "<class 'pandas.core.frame.DataFrame'>\n",
            "RangeIndex: 1458 entries, 0 to 1457\n",
            "Data columns (total 26 columns):\n",
            " #   Column                          Non-Null Count  Dtype  \n",
            "---  ------                          --------------  -----  \n",
            " 0   team_api_id                     1458 non-null   int64  \n",
            " 1   team_fifa_api_id                1458 non-null   int64  \n",
            " 2   team_long_name                  1458 non-null   object \n",
            " 3   team_short_name                 1458 non-null   object \n",
            " 4   date                            1458 non-null   object \n",
            " 5   buildUpPlaySpeed                1458 non-null   int64  \n",
            " 6   buildUpPlaySpeedClass           1458 non-null   object \n",
            " 7   buildUpPlayDribbling            489 non-null    float64\n",
            " 8   buildUpPlayDribblingClass       1458 non-null   object \n",
            " 9   buildUpPlayPassing              1458 non-null   int64  \n",
            " 10  buildUpPlayPassingClass         1458 non-null   object \n",
            " 11  buildUpPlayPositioningClass     1458 non-null   object \n",
            " 12  chanceCreationPassing           1458 non-null   int64  \n",
            " 13  chanceCreationPassingClass      1458 non-null   object \n",
            " 14  chanceCreationCrossing          1458 non-null   int64  \n",
            " 15  chanceCreationCrossingClass     1458 non-null   object \n",
            " 16  chanceCreationShooting          1458 non-null   int64  \n",
            " 17  chanceCreationShootingClass     1458 non-null   object \n",
            " 18  chanceCreationPositioningClass  1458 non-null   object \n",
            " 19  defencePressure                 1458 non-null   int64  \n",
            " 20  defencePressureClass            1458 non-null   object \n",
            " 21  defenceAggression               1458 non-null   int64  \n",
            " 22  defenceAggressionClass          1458 non-null   object \n",
            " 23  defenceTeamWidth                1458 non-null   int64  \n",
            " 24  defenceTeamWidthClass           1458 non-null   object \n",
            " 25  defenceDefenderLineClass        1458 non-null   object \n",
            "dtypes: float64(1), int64(10), object(15)\n",
            "memory usage: 296.3+ KB\n"
          ]
        }
      ],
      "source": [
        "# Info on column's datatypes and non-null count\n",
        "team_df.info()"
      ]
    },
    {
      "cell_type": "code",
      "execution_count": 19,
      "metadata": {
        "colab": {
          "base_uri": "https://localhost:8080/"
        },
        "id": "_vtqjqDdbAo3",
        "outputId": "e7871858-90fd-4e8a-cfeb-9c1fea36034a"
      },
      "outputs": [
        {
          "output_type": "execute_result",
          "data": {
            "text/plain": [
              "team_api_id                         0\n",
              "team_fifa_api_id                    0\n",
              "team_long_name                      0\n",
              "team_short_name                     0\n",
              "date                                0\n",
              "buildUpPlaySpeed                    0\n",
              "buildUpPlaySpeedClass               0\n",
              "buildUpPlayDribbling              969\n",
              "buildUpPlayDribblingClass           0\n",
              "buildUpPlayPassing                  0\n",
              "buildUpPlayPassingClass             0\n",
              "buildUpPlayPositioningClass         0\n",
              "chanceCreationPassing               0\n",
              "chanceCreationPassingClass          0\n",
              "chanceCreationCrossing              0\n",
              "chanceCreationCrossingClass         0\n",
              "chanceCreationShooting              0\n",
              "chanceCreationShootingClass         0\n",
              "chanceCreationPositioningClass      0\n",
              "defencePressure                     0\n",
              "defencePressureClass                0\n",
              "defenceAggression                   0\n",
              "defenceAggressionClass              0\n",
              "defenceTeamWidth                    0\n",
              "defenceTeamWidthClass               0\n",
              "defenceDefenderLineClass            0\n",
              "dtype: int64"
            ]
          },
          "metadata": {},
          "execution_count": 19
        }
      ],
      "source": [
        "# Number of missing values from dataset\n",
        "team_df.isna().sum()"
      ]
    },
    {
      "cell_type": "code",
      "execution_count": 20,
      "metadata": {
        "colab": {
          "base_uri": "https://localhost:8080/"
        },
        "id": "nZKfOPK5bG4T",
        "outputId": "efa4d994-00e7-498d-eb9c-978da1d75295"
      },
      "outputs": [
        {
          "output_type": "execute_result",
          "data": {
            "text/plain": [
              "1"
            ]
          },
          "metadata": {},
          "execution_count": 20
        }
      ],
      "source": [
        "team_df.duplicated().sum()"
      ]
    },
    {
      "cell_type": "code",
      "execution_count": 21,
      "metadata": {
        "colab": {
          "base_uri": "https://localhost:8080/",
          "height": 162
        },
        "id": "cgfywuNjbMoi",
        "outputId": "0c2e752a-88bb-4af0-f595-b710d9f5aacf"
      },
      "outputs": [
        {
          "output_type": "execute_result",
          "data": {
            "text/plain": [
              "     team_api_id  team_fifa_api_id        team_long_name team_short_name  \\\n",
              "860         9996            111560  Royal Excel Mouscron             MOU   \n",
              "\n",
              "                    date  buildUpPlaySpeed buildUpPlaySpeedClass  \\\n",
              "860  2015-09-10 00:00:00                50              Balanced   \n",
              "\n",
              "     buildUpPlayDribbling buildUpPlayDribblingClass  buildUpPlayPassing  \\\n",
              "860                  50.0                    Normal                  50   \n",
              "\n",
              "    buildUpPlayPassingClass buildUpPlayPositioningClass  \\\n",
              "860                   Mixed                   Organised   \n",
              "\n",
              "     chanceCreationPassing chanceCreationPassingClass  chanceCreationCrossing  \\\n",
              "860                     50                     Normal                      50   \n",
              "\n",
              "    chanceCreationCrossingClass  chanceCreationShooting  \\\n",
              "860                      Normal                      50   \n",
              "\n",
              "    chanceCreationShootingClass chanceCreationPositioningClass  \\\n",
              "860                      Normal                      Organised   \n",
              "\n",
              "     defencePressure defencePressureClass  defenceAggression  \\\n",
              "860               45               Medium                 45   \n",
              "\n",
              "    defenceAggressionClass  defenceTeamWidth defenceTeamWidthClass  \\\n",
              "860                  Press                50                Normal   \n",
              "\n",
              "    defenceDefenderLineClass  \n",
              "860                    Cover  "
            ],
            "text/html": [
              "\n",
              "  <div id=\"df-9d3b03fc-26dd-42b6-ae7d-236cd21aaf71\">\n",
              "    <div class=\"colab-df-container\">\n",
              "      <div>\n",
              "<style scoped>\n",
              "    .dataframe tbody tr th:only-of-type {\n",
              "        vertical-align: middle;\n",
              "    }\n",
              "\n",
              "    .dataframe tbody tr th {\n",
              "        vertical-align: top;\n",
              "    }\n",
              "\n",
              "    .dataframe thead th {\n",
              "        text-align: right;\n",
              "    }\n",
              "</style>\n",
              "<table border=\"1\" class=\"dataframe\">\n",
              "  <thead>\n",
              "    <tr style=\"text-align: right;\">\n",
              "      <th></th>\n",
              "      <th>team_api_id</th>\n",
              "      <th>team_fifa_api_id</th>\n",
              "      <th>team_long_name</th>\n",
              "      <th>team_short_name</th>\n",
              "      <th>date</th>\n",
              "      <th>buildUpPlaySpeed</th>\n",
              "      <th>buildUpPlaySpeedClass</th>\n",
              "      <th>buildUpPlayDribbling</th>\n",
              "      <th>buildUpPlayDribblingClass</th>\n",
              "      <th>buildUpPlayPassing</th>\n",
              "      <th>buildUpPlayPassingClass</th>\n",
              "      <th>buildUpPlayPositioningClass</th>\n",
              "      <th>chanceCreationPassing</th>\n",
              "      <th>chanceCreationPassingClass</th>\n",
              "      <th>chanceCreationCrossing</th>\n",
              "      <th>chanceCreationCrossingClass</th>\n",
              "      <th>chanceCreationShooting</th>\n",
              "      <th>chanceCreationShootingClass</th>\n",
              "      <th>chanceCreationPositioningClass</th>\n",
              "      <th>defencePressure</th>\n",
              "      <th>defencePressureClass</th>\n",
              "      <th>defenceAggression</th>\n",
              "      <th>defenceAggressionClass</th>\n",
              "      <th>defenceTeamWidth</th>\n",
              "      <th>defenceTeamWidthClass</th>\n",
              "      <th>defenceDefenderLineClass</th>\n",
              "    </tr>\n",
              "  </thead>\n",
              "  <tbody>\n",
              "    <tr>\n",
              "      <th>860</th>\n",
              "      <td>9996</td>\n",
              "      <td>111560</td>\n",
              "      <td>Royal Excel Mouscron</td>\n",
              "      <td>MOU</td>\n",
              "      <td>2015-09-10 00:00:00</td>\n",
              "      <td>50</td>\n",
              "      <td>Balanced</td>\n",
              "      <td>50.0</td>\n",
              "      <td>Normal</td>\n",
              "      <td>50</td>\n",
              "      <td>Mixed</td>\n",
              "      <td>Organised</td>\n",
              "      <td>50</td>\n",
              "      <td>Normal</td>\n",
              "      <td>50</td>\n",
              "      <td>Normal</td>\n",
              "      <td>50</td>\n",
              "      <td>Normal</td>\n",
              "      <td>Organised</td>\n",
              "      <td>45</td>\n",
              "      <td>Medium</td>\n",
              "      <td>45</td>\n",
              "      <td>Press</td>\n",
              "      <td>50</td>\n",
              "      <td>Normal</td>\n",
              "      <td>Cover</td>\n",
              "    </tr>\n",
              "  </tbody>\n",
              "</table>\n",
              "</div>\n",
              "      <button class=\"colab-df-convert\" onclick=\"convertToInteractive('df-9d3b03fc-26dd-42b6-ae7d-236cd21aaf71')\"\n",
              "              title=\"Convert this dataframe to an interactive table.\"\n",
              "              style=\"display:none;\">\n",
              "        \n",
              "  <svg xmlns=\"http://www.w3.org/2000/svg\" height=\"24px\"viewBox=\"0 0 24 24\"\n",
              "       width=\"24px\">\n",
              "    <path d=\"M0 0h24v24H0V0z\" fill=\"none\"/>\n",
              "    <path d=\"M18.56 5.44l.94 2.06.94-2.06 2.06-.94-2.06-.94-.94-2.06-.94 2.06-2.06.94zm-11 1L8.5 8.5l.94-2.06 2.06-.94-2.06-.94L8.5 2.5l-.94 2.06-2.06.94zm10 10l.94 2.06.94-2.06 2.06-.94-2.06-.94-.94-2.06-.94 2.06-2.06.94z\"/><path d=\"M17.41 7.96l-1.37-1.37c-.4-.4-.92-.59-1.43-.59-.52 0-1.04.2-1.43.59L10.3 9.45l-7.72 7.72c-.78.78-.78 2.05 0 2.83L4 21.41c.39.39.9.59 1.41.59.51 0 1.02-.2 1.41-.59l7.78-7.78 2.81-2.81c.8-.78.8-2.07 0-2.86zM5.41 20L4 18.59l7.72-7.72 1.47 1.35L5.41 20z\"/>\n",
              "  </svg>\n",
              "      </button>\n",
              "      \n",
              "  <style>\n",
              "    .colab-df-container {\n",
              "      display:flex;\n",
              "      flex-wrap:wrap;\n",
              "      gap: 12px;\n",
              "    }\n",
              "\n",
              "    .colab-df-convert {\n",
              "      background-color: #E8F0FE;\n",
              "      border: none;\n",
              "      border-radius: 50%;\n",
              "      cursor: pointer;\n",
              "      display: none;\n",
              "      fill: #1967D2;\n",
              "      height: 32px;\n",
              "      padding: 0 0 0 0;\n",
              "      width: 32px;\n",
              "    }\n",
              "\n",
              "    .colab-df-convert:hover {\n",
              "      background-color: #E2EBFA;\n",
              "      box-shadow: 0px 1px 2px rgba(60, 64, 67, 0.3), 0px 1px 3px 1px rgba(60, 64, 67, 0.15);\n",
              "      fill: #174EA6;\n",
              "    }\n",
              "\n",
              "    [theme=dark] .colab-df-convert {\n",
              "      background-color: #3B4455;\n",
              "      fill: #D2E3FC;\n",
              "    }\n",
              "\n",
              "    [theme=dark] .colab-df-convert:hover {\n",
              "      background-color: #434B5C;\n",
              "      box-shadow: 0px 1px 3px 1px rgba(0, 0, 0, 0.15);\n",
              "      filter: drop-shadow(0px 1px 2px rgba(0, 0, 0, 0.3));\n",
              "      fill: #FFFFFF;\n",
              "    }\n",
              "  </style>\n",
              "\n",
              "      <script>\n",
              "        const buttonEl =\n",
              "          document.querySelector('#df-9d3b03fc-26dd-42b6-ae7d-236cd21aaf71 button.colab-df-convert');\n",
              "        buttonEl.style.display =\n",
              "          google.colab.kernel.accessAllowed ? 'block' : 'none';\n",
              "\n",
              "        async function convertToInteractive(key) {\n",
              "          const element = document.querySelector('#df-9d3b03fc-26dd-42b6-ae7d-236cd21aaf71');\n",
              "          const dataTable =\n",
              "            await google.colab.kernel.invokeFunction('convertToInteractive',\n",
              "                                                     [key], {});\n",
              "          if (!dataTable) return;\n",
              "\n",
              "          const docLinkHtml = 'Like what you see? Visit the ' +\n",
              "            '<a target=\"_blank\" href=https://colab.research.google.com/notebooks/data_table.ipynb>data table notebook</a>'\n",
              "            + ' to learn more about interactive tables.';\n",
              "          element.innerHTML = '';\n",
              "          dataTable['output_type'] = 'display_data';\n",
              "          await google.colab.output.renderOutput(dataTable, element);\n",
              "          const docLink = document.createElement('div');\n",
              "          docLink.innerHTML = docLinkHtml;\n",
              "          element.appendChild(docLink);\n",
              "        }\n",
              "      </script>\n",
              "    </div>\n",
              "  </div>\n",
              "  "
            ]
          },
          "metadata": {},
          "execution_count": 21
        }
      ],
      "source": [
        "team_df[team_df.duplicated()]"
      ]
    },
    {
      "cell_type": "markdown",
      "source": [
        "\n",
        "**Some issues with `team_df` dataframe:**\n",
        "\n",
        "*   Incorrect datatypes. `Date` needs to be converted to datetime\n",
        "*   `buildUpPlayDribbling` contains a lot of missing data. We would drop the column.\n",
        "*   Dataframe has duplicate values. "
      ],
      "metadata": {
        "id": "vI3XK7FJ6IQo"
      }
    },
    {
      "cell_type": "code",
      "execution_count": 22,
      "metadata": {
        "id": "tgrCeox-x5VA"
      },
      "outputs": [],
      "source": [
        "match_query = \"\"\"\n",
        "WITH home_team AS (SELECT t.team_long_name as home_team, m.id id_t\n",
        "FROM team t\n",
        "JOIN match m\n",
        "ON m.home_team_api_id=t.team_api_id),\n",
        "away_team AS (SELECT t.team_long_name as away_team, m.id id_t\n",
        "FROM team t\n",
        "JOIN match m\n",
        "ON m.away_team_api_id=t.team_api_id)\n",
        "SELECT m.date date_match, m.season, l.name league, ht.home_team,\n",
        "a_t.away_Team, m.home_team_goal home_goal, m.away_team_goal away_goal\n",
        "FROM League as l\n",
        "JOIN match m\n",
        "ON l.id = m.league_id\n",
        "JOIN home_team ht\n",
        "ON ht.id_t=m.id\n",
        "JOIN away_team a_t\n",
        "ON a_t.id_t=m.id\n",
        "ORDER BY date_match\n",
        "\"\"\""
      ]
    },
    {
      "cell_type": "code",
      "source": [
        "\n",
        "match_df = pd.read_sql_query(match_query, dbcon)"
      ],
      "metadata": {
        "id": "ie3DzyMuFP4d"
      },
      "execution_count": null,
      "outputs": []
    },
    {
      "cell_type": "code",
      "execution_count": 23,
      "metadata": {
        "colab": {
          "base_uri": "https://localhost:8080/"
        },
        "id": "-36TxISOx_Uk",
        "outputId": "effacd45-e5dd-467f-8965-b3691ec7b0e5"
      },
      "outputs": [
        {
          "output_type": "stream",
          "name": "stdout",
          "text": [
            "<class 'pandas.core.frame.DataFrame'>\n",
            "RangeIndex: 25979 entries, 0 to 25978\n",
            "Data columns (total 7 columns):\n",
            " #   Column      Non-Null Count  Dtype \n",
            "---  ------      --------------  ----- \n",
            " 0   date_match  25979 non-null  object\n",
            " 1   season      25979 non-null  object\n",
            " 2   league      25979 non-null  object\n",
            " 3   home_team   25979 non-null  object\n",
            " 4   away_team   25979 non-null  object\n",
            " 5   home_goal   25979 non-null  int64 \n",
            " 6   away_goal   25979 non-null  int64 \n",
            "dtypes: int64(2), object(5)\n",
            "memory usage: 1.4+ MB\n"
          ]
        }
      ],
      "source": [
        "match_df.info()"
      ]
    },
    {
      "cell_type": "code",
      "execution_count": 24,
      "metadata": {
        "colab": {
          "base_uri": "https://localhost:8080/",
          "height": 206
        },
        "id": "DHg3kH2vyjAY",
        "outputId": "e0ffe79d-7d98-4815-b984-9ef7bf771b17"
      },
      "outputs": [
        {
          "output_type": "execute_result",
          "data": {
            "text/plain": [
              "            date_match     season                    league        home_team  \\\n",
              "0  2008-07-18 00:00:00  2008/2009  Switzerland Super League   BSC Young Boys   \n",
              "1  2008-07-19 00:00:00  2008/2009  Switzerland Super League         FC Aarau   \n",
              "2  2008-07-20 00:00:00  2008/2009  Switzerland Super League        FC Luzern   \n",
              "3  2008-07-20 00:00:00  2008/2009  Switzerland Super League  Neuchâtel Xamax   \n",
              "4  2008-07-23 00:00:00  2008/2009  Switzerland Super League         FC Basel   \n",
              "\n",
              "                 away_team  home_goal  away_goal  \n",
              "0                 FC Basel          1          2  \n",
              "1                  FC Sion          3          1  \n",
              "2                 FC Vaduz          1          2  \n",
              "3                FC Zürich          1          2  \n",
              "4  Grasshopper Club Zürich          1          0  "
            ],
            "text/html": [
              "\n",
              "  <div id=\"df-a1a13543-3c55-4c6f-8a2e-6f1b5cdb7ce6\">\n",
              "    <div class=\"colab-df-container\">\n",
              "      <div>\n",
              "<style scoped>\n",
              "    .dataframe tbody tr th:only-of-type {\n",
              "        vertical-align: middle;\n",
              "    }\n",
              "\n",
              "    .dataframe tbody tr th {\n",
              "        vertical-align: top;\n",
              "    }\n",
              "\n",
              "    .dataframe thead th {\n",
              "        text-align: right;\n",
              "    }\n",
              "</style>\n",
              "<table border=\"1\" class=\"dataframe\">\n",
              "  <thead>\n",
              "    <tr style=\"text-align: right;\">\n",
              "      <th></th>\n",
              "      <th>date_match</th>\n",
              "      <th>season</th>\n",
              "      <th>league</th>\n",
              "      <th>home_team</th>\n",
              "      <th>away_team</th>\n",
              "      <th>home_goal</th>\n",
              "      <th>away_goal</th>\n",
              "    </tr>\n",
              "  </thead>\n",
              "  <tbody>\n",
              "    <tr>\n",
              "      <th>0</th>\n",
              "      <td>2008-07-18 00:00:00</td>\n",
              "      <td>2008/2009</td>\n",
              "      <td>Switzerland Super League</td>\n",
              "      <td>BSC Young Boys</td>\n",
              "      <td>FC Basel</td>\n",
              "      <td>1</td>\n",
              "      <td>2</td>\n",
              "    </tr>\n",
              "    <tr>\n",
              "      <th>1</th>\n",
              "      <td>2008-07-19 00:00:00</td>\n",
              "      <td>2008/2009</td>\n",
              "      <td>Switzerland Super League</td>\n",
              "      <td>FC Aarau</td>\n",
              "      <td>FC Sion</td>\n",
              "      <td>3</td>\n",
              "      <td>1</td>\n",
              "    </tr>\n",
              "    <tr>\n",
              "      <th>2</th>\n",
              "      <td>2008-07-20 00:00:00</td>\n",
              "      <td>2008/2009</td>\n",
              "      <td>Switzerland Super League</td>\n",
              "      <td>FC Luzern</td>\n",
              "      <td>FC Vaduz</td>\n",
              "      <td>1</td>\n",
              "      <td>2</td>\n",
              "    </tr>\n",
              "    <tr>\n",
              "      <th>3</th>\n",
              "      <td>2008-07-20 00:00:00</td>\n",
              "      <td>2008/2009</td>\n",
              "      <td>Switzerland Super League</td>\n",
              "      <td>Neuchâtel Xamax</td>\n",
              "      <td>FC Zürich</td>\n",
              "      <td>1</td>\n",
              "      <td>2</td>\n",
              "    </tr>\n",
              "    <tr>\n",
              "      <th>4</th>\n",
              "      <td>2008-07-23 00:00:00</td>\n",
              "      <td>2008/2009</td>\n",
              "      <td>Switzerland Super League</td>\n",
              "      <td>FC Basel</td>\n",
              "      <td>Grasshopper Club Zürich</td>\n",
              "      <td>1</td>\n",
              "      <td>0</td>\n",
              "    </tr>\n",
              "  </tbody>\n",
              "</table>\n",
              "</div>\n",
              "      <button class=\"colab-df-convert\" onclick=\"convertToInteractive('df-a1a13543-3c55-4c6f-8a2e-6f1b5cdb7ce6')\"\n",
              "              title=\"Convert this dataframe to an interactive table.\"\n",
              "              style=\"display:none;\">\n",
              "        \n",
              "  <svg xmlns=\"http://www.w3.org/2000/svg\" height=\"24px\"viewBox=\"0 0 24 24\"\n",
              "       width=\"24px\">\n",
              "    <path d=\"M0 0h24v24H0V0z\" fill=\"none\"/>\n",
              "    <path d=\"M18.56 5.44l.94 2.06.94-2.06 2.06-.94-2.06-.94-.94-2.06-.94 2.06-2.06.94zm-11 1L8.5 8.5l.94-2.06 2.06-.94-2.06-.94L8.5 2.5l-.94 2.06-2.06.94zm10 10l.94 2.06.94-2.06 2.06-.94-2.06-.94-.94-2.06-.94 2.06-2.06.94z\"/><path d=\"M17.41 7.96l-1.37-1.37c-.4-.4-.92-.59-1.43-.59-.52 0-1.04.2-1.43.59L10.3 9.45l-7.72 7.72c-.78.78-.78 2.05 0 2.83L4 21.41c.39.39.9.59 1.41.59.51 0 1.02-.2 1.41-.59l7.78-7.78 2.81-2.81c.8-.78.8-2.07 0-2.86zM5.41 20L4 18.59l7.72-7.72 1.47 1.35L5.41 20z\"/>\n",
              "  </svg>\n",
              "      </button>\n",
              "      \n",
              "  <style>\n",
              "    .colab-df-container {\n",
              "      display:flex;\n",
              "      flex-wrap:wrap;\n",
              "      gap: 12px;\n",
              "    }\n",
              "\n",
              "    .colab-df-convert {\n",
              "      background-color: #E8F0FE;\n",
              "      border: none;\n",
              "      border-radius: 50%;\n",
              "      cursor: pointer;\n",
              "      display: none;\n",
              "      fill: #1967D2;\n",
              "      height: 32px;\n",
              "      padding: 0 0 0 0;\n",
              "      width: 32px;\n",
              "    }\n",
              "\n",
              "    .colab-df-convert:hover {\n",
              "      background-color: #E2EBFA;\n",
              "      box-shadow: 0px 1px 2px rgba(60, 64, 67, 0.3), 0px 1px 3px 1px rgba(60, 64, 67, 0.15);\n",
              "      fill: #174EA6;\n",
              "    }\n",
              "\n",
              "    [theme=dark] .colab-df-convert {\n",
              "      background-color: #3B4455;\n",
              "      fill: #D2E3FC;\n",
              "    }\n",
              "\n",
              "    [theme=dark] .colab-df-convert:hover {\n",
              "      background-color: #434B5C;\n",
              "      box-shadow: 0px 1px 3px 1px rgba(0, 0, 0, 0.15);\n",
              "      filter: drop-shadow(0px 1px 2px rgba(0, 0, 0, 0.3));\n",
              "      fill: #FFFFFF;\n",
              "    }\n",
              "  </style>\n",
              "\n",
              "      <script>\n",
              "        const buttonEl =\n",
              "          document.querySelector('#df-a1a13543-3c55-4c6f-8a2e-6f1b5cdb7ce6 button.colab-df-convert');\n",
              "        buttonEl.style.display =\n",
              "          google.colab.kernel.accessAllowed ? 'block' : 'none';\n",
              "\n",
              "        async function convertToInteractive(key) {\n",
              "          const element = document.querySelector('#df-a1a13543-3c55-4c6f-8a2e-6f1b5cdb7ce6');\n",
              "          const dataTable =\n",
              "            await google.colab.kernel.invokeFunction('convertToInteractive',\n",
              "                                                     [key], {});\n",
              "          if (!dataTable) return;\n",
              "\n",
              "          const docLinkHtml = 'Like what you see? Visit the ' +\n",
              "            '<a target=\"_blank\" href=https://colab.research.google.com/notebooks/data_table.ipynb>data table notebook</a>'\n",
              "            + ' to learn more about interactive tables.';\n",
              "          element.innerHTML = '';\n",
              "          dataTable['output_type'] = 'display_data';\n",
              "          await google.colab.output.renderOutput(dataTable, element);\n",
              "          const docLink = document.createElement('div');\n",
              "          docLink.innerHTML = docLinkHtml;\n",
              "          element.appendChild(docLink);\n",
              "        }\n",
              "      </script>\n",
              "    </div>\n",
              "  </div>\n",
              "  "
            ]
          },
          "metadata": {},
          "execution_count": 24
        }
      ],
      "source": [
        "match_df.head()"
      ]
    },
    {
      "cell_type": "code",
      "execution_count": 25,
      "metadata": {
        "colab": {
          "base_uri": "https://localhost:8080/"
        },
        "id": "3xfHXfTVcEAD",
        "outputId": "fd86caba-9459-4979-8e6b-085140b69629"
      },
      "outputs": [
        {
          "output_type": "execute_result",
          "data": {
            "text/plain": [
              "date_match    0\n",
              "season        0\n",
              "league        0\n",
              "home_team     0\n",
              "away_team     0\n",
              "home_goal     0\n",
              "away_goal     0\n",
              "dtype: int64"
            ]
          },
          "metadata": {},
          "execution_count": 25
        }
      ],
      "source": [
        "match_df.isna().sum()"
      ]
    },
    {
      "cell_type": "code",
      "execution_count": 26,
      "metadata": {
        "colab": {
          "base_uri": "https://localhost:8080/"
        },
        "id": "LLPLpa6vcIom",
        "outputId": "44b9a45c-763f-4728-d620-68d2eff8edd7"
      },
      "outputs": [
        {
          "output_type": "execute_result",
          "data": {
            "text/plain": [
              "0"
            ]
          },
          "metadata": {},
          "execution_count": 26
        }
      ],
      "source": [
        "match_df.duplicated().sum()"
      ]
    },
    {
      "cell_type": "markdown",
      "source": [
        "\n",
        "**Observations on `match_df` dataframe:**\n",
        "\n",
        "*   Incorrect datatypes. `date_match` needs to be converted to datetime\n",
        "* It contains no missing values or duplicates"
      ],
      "metadata": {
        "id": "tOY50K906o69"
      }
    },
    {
      "cell_type": "markdown",
      "metadata": {
        "id": "pLvNeMrN0SzF"
      },
      "source": [
        "\n",
        "### Data Cleaning\n",
        " "
      ]
    },
    {
      "cell_type": "code",
      "execution_count": 27,
      "metadata": {
        "collapsed": true,
        "id": "68AvJiGD0SzG"
      },
      "outputs": [],
      "source": [
        "# Fixing datetime datatype\n",
        "player_df['birthday'] = pd.to_datetime(player_df['birthday'])\n",
        "player_df['date'] = pd.to_datetime(player_df['date'])\n",
        "team_df['date'] = pd.to_datetime(team_df['date'])\n",
        "match_df['date_match'] = pd.to_datetime(match_df['date_match'])"
      ]
    },
    {
      "cell_type": "code",
      "execution_count": 28,
      "metadata": {
        "id": "zZgTINlacLXt"
      },
      "outputs": [],
      "source": [
        "# Dropping duplicates\n",
        "player_df.drop(index=[84923, 84924], inplace=True)\n",
        "team_df.drop_duplicates(inplace=True)"
      ]
    },
    {
      "cell_type": "code",
      "execution_count": 30,
      "metadata": {
        "id": "ptn83GZy_F-0",
        "colab": {
          "base_uri": "https://localhost:8080/"
        },
        "outputId": "8ca1dea8-4c0e-48f6-feb1-dc2e18b87a81"
      },
      "outputs": [
        {
          "output_type": "stream",
          "name": "stderr",
          "text": [
            "/usr/local/lib/python3.7/dist-packages/ipykernel_launcher.py:2: FutureWarning: DataFrame.mean and DataFrame.median with numeric_only=None will include datetime64 and datetime64tz columns in a future version.\n",
            "  \n",
            "/usr/local/lib/python3.7/dist-packages/ipykernel_launcher.py:2: FutureWarning: Dropping of nuisance columns in DataFrame reductions (with 'numeric_only=None') is deprecated; in a future version this will raise TypeError.  Select only valid columns before calling the reduction.\n",
            "  \n"
          ]
        }
      ],
      "source": [
        "# Filling missing values with mean\n",
        "player_df.fillna(player_df.mean(), inplace=True)"
      ]
    },
    {
      "cell_type": "code",
      "source": [
        "# Dropping missing values\n",
        "team_df.dropna(axis='columns', inplace=True)"
      ],
      "metadata": {
        "id": "30kSxEU99wUn"
      },
      "execution_count": 31,
      "outputs": []
    },
    {
      "cell_type": "markdown",
      "metadata": {
        "id": "12Wok2Lz0SzI"
      },
      "source": [
        "<a id='eda'></a>\n",
        "## Exploratory Data Analysis\n",
        "\n",
        "\n",
        "### Research Question 1: Which players are the best penalty takers?\n",
        "\n",
        "We will calculate the mean penalty attribute of each player. For the scores, we will sort them from best to least best.The data will be plotted in a bar chart to have a clear visualization on the average players' penalty score."
      ]
    },
    {
      "cell_type": "code",
      "execution_count": 78,
      "metadata": {
        "colab": {
          "base_uri": "https://localhost:8080/"
        },
        "collapsed": true,
        "id": "IVZGV3AE0SzJ",
        "outputId": "75040a9a-ec9e-4282-c64f-3a1013366593"
      },
      "outputs": [
        {
          "output_type": "execute_result",
          "data": {
            "text/plain": [
              "player_name\n",
              "Paolo Maldini         92.000000\n",
              "Dario Smoje           89.750000\n",
              "Mario Balotelli       89.565217\n",
              "Francesco Totti       89.550000\n",
              "David Villa           89.166667\n",
              "Roy Makaay            88.166667\n",
              "Zlatan Ibrahimovic    88.000000\n",
              "Timmy Simons          87.607143\n",
              "Adrian Mutu           87.333333\n",
              "Michael Ballack       87.200000\n",
              "Name: penalties, dtype: float64"
            ]
          },
          "metadata": {},
          "execution_count": 78
        }
      ],
      "source": [
        "best_penalty_takers = player_df.groupby('player_name').mean()['penalties'].sort_values(ascending=False).head(10)\n",
        "best_penalty_takers"
      ]
    },
    {
      "cell_type": "code",
      "execution_count": 76,
      "metadata": {
        "colab": {
          "base_uri": "https://localhost:8080/",
          "height": 379
        },
        "id": "ZyhL1H_vEJzF",
        "outputId": "fb837e40-ef54-41d0-a41b-5d09d2cbaadd"
      },
      "outputs": [
        {
          "output_type": "display_data",
          "data": {
            "text/plain": [
              "<Figure size 432x288 with 1 Axes>"
            ],
            "image/png": "[encoded data removed]"
          },
          "metadata": {
            "needs_background": "light"
          }
        }
      ],
      "source": [
        "best_penalty_takers.plot(kind='bar', rot=90)\n",
        "plt.ylim(85, 95)\n",
        "plt.title('10 Best Average Penalty Score')\n",
        "plt.xlabel(\"Player Name\")\n",
        "plt.ylabel(\"Score\");"
      ]
    },
    {
      "cell_type": "markdown",
      "source": [
        "Paolo Maldini was the best penalty taker between that period. But what attributes makes this player better than others at penalties?"
      ],
      "metadata": {
        "id": "cAPi7xpmJUOI"
      }
    },
    {
      "cell_type": "markdown",
      "metadata": {
        "id": "DOba1m3FwqzL"
      },
      "source": [
        "### Research Question 2: Which attributes influences penalties attributes? \n",
        "We once again use the mean score and find the correlation between penalties and other player attributes. The data will be plotted in a scatter plot to have a clear visualization on the correlation of attributes.\n",
        "\n",
        "> Positive Correlation -- Variables increase together, decrease together.\n",
        "\n",
        "> Negative Correlation -- A variable increases, while the other decreases.\n",
        "\n",
        "> Neutral, or zero means no correlation."
      ]
    },
    {
      "cell_type": "code",
      "execution_count": 34,
      "metadata": {
        "id": "3wlJnaD23ErU"
      },
      "outputs": [],
      "source": [
        "correlation = player_df.groupby('player_name').mean().reset_index().corr()"
      ]
    },
    {
      "cell_type": "code",
      "source": [
        "correlation['penalties'].sort_values(ascending=False)"
      ],
      "metadata": {
        "colab": {
          "base_uri": "https://localhost:8080/"
        },
        "id": "fjLaWH5_Jw8v",
        "outputId": "71f34314-081c-4b41-f6ab-f66d8d7d2c3d"
      },
      "execution_count": 70,
      "outputs": [
        {
          "output_type": "execute_result",
          "data": {
            "text/plain": [
              "penalties             1.000000\n",
              "positioning           0.791849\n",
              "long_shots            0.762419\n",
              "finishing             0.760442\n",
              "volleys               0.760309\n",
              "shot_power            0.742194\n",
              "ball_control          0.729658\n",
              "vision                0.711881\n",
              "free_kick_accuracy    0.708629\n",
              "dribbling             0.694032\n",
              "curve                 0.689801\n",
              "short_passing         0.657160\n",
              "crossing              0.599973\n",
              "long_passing          0.491394\n",
              "heading_accuracy      0.488889\n",
              "agility               0.477490\n",
              "acceleration          0.461124\n",
              "sprint_speed          0.454968\n",
              "stamina               0.444579\n",
              "reactions             0.434388\n",
              "overall_rating        0.432347\n",
              "balance               0.430676\n",
              "potential             0.349831\n",
              "aggression            0.251098\n",
              "interceptions         0.116107\n",
              "strength              0.072606\n",
              "jumping               0.062801\n",
              "standing_tackle       0.015331\n",
              "marking              -0.024302\n",
              "sliding_tackle       -0.029518\n",
              "player_api_id        -0.198351\n",
              "weight               -0.200922\n",
              "gk_kicking           -0.204299\n",
              "player_fifa_api_id   -0.254321\n",
              "height               -0.280742\n",
              "gk_handling          -0.470826\n",
              "gk_positioning       -0.474459\n",
              "gk_reflexes          -0.479650\n",
              "gk_diving            -0.510890\n",
              "Name: penalties, dtype: float64"
            ]
          },
          "metadata": {},
          "execution_count": 70
        }
      ]
    },
    {
      "cell_type": "code",
      "execution_count": 59,
      "metadata": {
        "colab": {
          "base_uri": "https://localhost:8080/",
          "height": 584
        },
        "id": "s1sy1jkt4U6E",
        "outputId": "988fed38-a762-4a05-f427-781b8a34af06"
      },
      "outputs": [
        {
          "output_type": "display_data",
          "data": {
            "text/plain": [
              "<Figure size 576x576 with 1 Axes>"
            ],
            "image/png": "[encoded data removed]"
          },
          "metadata": {
            "needs_background": "light"
          }
        }
      ],
      "source": [
        "correlation['penalties'].plot(kind='bar', figsize=(8,8))\n",
        "plt.title('Attributes Correlation with Penalties');"
      ]
    },
    {
      "cell_type": "markdown",
      "source": [
        "Pl"
      ],
      "metadata": {
        "id": "cmdPvIQbJuxz"
      }
    },
    {
      "cell_type": "code",
      "execution_count": 72,
      "metadata": {
        "colab": {
          "base_uri": "https://localhost:8080/",
          "height": 1000
        },
        "id": "0Qpmpj4cBxNN",
        "outputId": "4bb9de52-ccb4-46c4-c9aa-6c41b087c4a6"
      },
      "outputs": [
        {
          "output_type": "display_data",
          "data": {
            "text/plain": [
              "<Figure size 432x288 with 1 Axes>"
            ],
            "image/png": "[encoded data removed]"
          },
          "metadata": {
            "needs_background": "light"
          }
        },
        {
          "output_type": "display_data",
          "data": {
            "text/plain": [
              "<Figure size 432x288 with 1 Axes>"
            ],
            "image/png": "[encoded data removed]"
          },
          "metadata": {
            "needs_background": "light"
          }
        },
        {
          "output_type": "display_data",
          "data": {
            "text/plain": [
              "<Figure size 432x288 with 1 Axes>"
            ],
            "image/png": "[encoded data removed]"
          },
          "metadata": {
            "needs_background": "light"
          }
        },
        {
          "output_type": "display_data",
          "data": {
            "text/plain": [
              "<Figure size 432x288 with 1 Axes>"
            ],
            "image/png": "[encoded data removed]"
          },
          "metadata": {
            "needs_background": "light"
          }
        },
        {
          "output_type": "display_data",
          "data": {
            "text/plain": [
              "<Figure size 432x288 with 1 Axes>"
            ],
            "image/png": "[encoded data removed]"
          },
          "metadata": {
            "needs_background": "light"
          }
        },
        {
          "output_type": "display_data",
          "data": {
            "text/plain": [
              "<Figure size 432x288 with 1 Axes>"
            ],
            "image/png": "[encoded data removed]"
          },
          "metadata": {
            "needs_background": "light"
          }
        },
        {
          "output_type": "display_data",
          "data": {
            "text/plain": [
              "<Figure size 432x288 with 1 Axes>"
            ],
            "image/png": "[encoded data removed]"
          },
          "metadata": {
            "needs_background": "light"
          }
        },
        {
          "output_type": "display_data",
          "data": {
            "text/plain": [
              "<Figure size 432x288 with 1 Axes>"
            ],
            "image/png": "[encoded data removed]"
          },
          "metadata": {
            "needs_background": "light"
          }
        },
        {
          "output_type": "display_data",
          "data": {
            "text/plain": [
              "<Figure size 432x288 with 1 Axes>"
            ],
            "image/png": "[encoded data removed]"
          },
          "metadata": {
            "needs_background": "light"
          }
        },
        {
          "output_type": "display_data",
          "data": {
            "text/plain": [
              "<Figure size 432x288 with 1 Axes>"
            ],
            "image/png": "[encoded data removed]"
          },
          "metadata": {
            "needs_background": "light"
          }
        },
        {
          "output_type": "display_data",
          "data": {
            "text/plain": [
              "<Figure size 432x288 with 1 Axes>"
            ],
            "image/png": "[encoded data removed]"
          },
          "metadata": {
            "needs_background": "light"
          }
        },
        {
          "output_type": "display_data",
          "data": {
            "text/plain": [
              "<Figure size 432x288 with 1 Axes>"
            ],
            "image/png": "[encoded data removed]"
          },
          "metadata": {
            "needs_background": "light"
          }
        }
      ],
      "source": [
        "related_attributes = ['positioning', 'long_shots', 'finishing', 'volleys', \n",
        "                      'shot_power', 'ball_control', 'vision', 'free_kick_accuracy',\n",
        "                      'gk_handling', 'gk_positioning', 'gk_reflexes', 'gk_diving']\n",
        "\n",
        "\n",
        "for i, col in enumerate(related_attributes):\n",
        "  player_df.groupby('player_name').mean().plot(kind='scatter', x=col, y='penalties')\n",
        "  plt.title(f'{col} correlation with penalties');"
      ]
    },
    {
      "cell_type": "markdown",
      "source": [
        "\n",
        "`long_shots`, `finishing`, `volleys`, `shot_power`, `ball_control`, `vision`, `free_kick_accuracy` have strong positive correlations with a player's ability to take penalties. \n",
        "\n",
        "\n",
        "`gk_handling`, `gk_positioning`, `gk_reflexes`, `gk_diving` have negative correlations with penalties.     "
      ],
      "metadata": {
        "id": "Ez6FtFX5KnM0"
      }
    },
    {
      "cell_type": "markdown",
      "metadata": {
        "id": "Uk7LZNpX0SzK"
      },
      "source": [
        "### Research Question 3: Which league have the most goal scored?\n",
        "We group the dataset by league and aggregate the home and away goals to find the total number of goals scored. The data will be plotted in a bar chart to have a clear visualization on the goal distribution by league.\n"
      ]
    },
    {
      "cell_type": "code",
      "source": [
        "league_goals = match_df.groupby(['league']).sum().sum(axis=1)\n",
        "league_goals.sort_values(ascending=False)"
      ],
      "metadata": {
        "colab": {
          "base_uri": "https://localhost:8080/"
        },
        "id": "5b3cPhmDIMZo",
        "outputId": "1ca2f8f0-d5e4-4e40-b7b0-aa8be4d4e37c"
      },
      "execution_count": 66,
      "outputs": [
        {
          "output_type": "execute_result",
          "data": {
            "text/plain": [
              "league\n",
              "Spain LIGA BBVA             8412\n",
              "England Premier League      8240\n",
              "Italy Serie A               7895\n",
              "Netherlands Eredivisie      7542\n",
              "France Ligue 1              7427\n",
              "Germany 1. Bundesliga       7103\n",
              "Portugal Liga ZON Sagres    5201\n",
              "Belgium Jupiler League      4841\n",
              "Scotland Premier League     4804\n",
              "Poland Ekstraklasa          4656\n",
              "Switzerland Super League    4166\n",
              "dtype: int64"
            ]
          },
          "metadata": {},
          "execution_count": 66
        }
      ]
    },
    {
      "cell_type": "code",
      "execution_count": 67,
      "metadata": {
        "colab": {
          "base_uri": "https://localhost:8080/",
          "height": 415
        },
        "id": "foNnS1iWG1qE",
        "outputId": "32476fcf-f32c-4296-cc9d-a7ea1ede467c"
      },
      "outputs": [
        {
          "output_type": "display_data",
          "data": {
            "text/plain": [
              "<Figure size 432x288 with 1 Axes>"
            ],
            "image/png": "[encoded data removed]"
          },
          "metadata": {
            "needs_background": "light"
          }
        }
      ],
      "source": [
        "league_goals.plot(kind='bar')\n",
        "plt.title('Goals Distribution by Leagues')\n",
        "plt.ylabel('Number of goals scored')\n",
        "plt.xlabel('League');"
      ]
    },
    {
      "cell_type": "markdown",
      "source": [
        "Spain LIGA BBVA scored the most goals over that period, closely followed by England Premier League."
      ],
      "metadata": {
        "id": "jyjghw_6Ns2n"
      }
    },
    {
      "cell_type": "markdown",
      "metadata": {
        "id": "kEW9jDCKL112"
      },
      "source": [
        "### Research Question 4: Which leagues have the most home goals or most away goals?\n",
        "\n",
        "We group the dataset by league and aggregate the home and away goals scored. The data will be plotted in a proportion bar chart to have a clear visualization on the home and away goal distribution by league."
      ]
    },
    {
      "cell_type": "code",
      "execution_count": 65,
      "metadata": {
        "id": "v4mq8E0KM712"
      },
      "outputs": [],
      "source": [
        "total_goals = match_df.groupby(['league']).sum().sum(axis=1).sum()"
      ]
    },
    {
      "cell_type": "code",
      "source": [
        "match_df.groupby(['league']).sum().sort_values(by=['away_goal', 'home_goal'], ascending=False)"
      ],
      "metadata": {
        "colab": {
          "base_uri": "https://localhost:8080/",
          "height": 426
        },
        "id": "VrpfaM3IGJqy",
        "outputId": "6e300732-8409-4021-f324-8fe4045a664c"
      },
      "execution_count": 73,
      "outputs": [
        {
          "output_type": "execute_result",
          "data": {
            "text/plain": [
              "                          home_goal  away_goal\n",
              "league                                        \n",
              "England Premier League         4715       3525\n",
              "Spain LIGA BBVA                4959       3453\n",
              "Italy Serie A                  4528       3367\n",
              "Netherlands Eredivisie         4357       3185\n",
              "France Ligue 1                 4265       3162\n",
              "Germany 1. Bundesliga          3982       3121\n",
              "Portugal Liga ZON Sagres       2890       2311\n",
              "Scotland Premier League        2607       2197\n",
              "Belgium Jupiler League         2781       2060\n",
              "Poland Ekstraklasa             2678       1978\n",
              "Switzerland Super League       2365       1801"
            ],
            "text/html": [
              "\n",
              "  <div id=\"df-056b5c66-11b7-4e54-b216-53734a8fbcf5\">\n",
              "    <div class=\"colab-df-container\">\n",
              "      <div>\n",
              "<style scoped>\n",
              "    .dataframe tbody tr th:only-of-type {\n",
              "        vertical-align: middle;\n",
              "    }\n",
              "\n",
              "    .dataframe tbody tr th {\n",
              "        vertical-align: top;\n",
              "    }\n",
              "\n",
              "    .dataframe thead th {\n",
              "        text-align: right;\n",
              "    }\n",
              "</style>\n",
              "<table border=\"1\" class=\"dataframe\">\n",
              "  <thead>\n",
              "    <tr style=\"text-align: right;\">\n",
              "      <th></th>\n",
              "      <th>home_goal</th>\n",
              "      <th>away_goal</th>\n",
              "    </tr>\n",
              "    <tr>\n",
              "      <th>league</th>\n",
              "      <th></th>\n",
              "      <th></th>\n",
              "    </tr>\n",
              "  </thead>\n",
              "  <tbody>\n",
              "    <tr>\n",
              "      <th>England Premier League</th>\n",
              "      <td>4715</td>\n",
              "      <td>3525</td>\n",
              "    </tr>\n",
              "    <tr>\n",
              "      <th>Spain LIGA BBVA</th>\n",
              "      <td>4959</td>\n",
              "      <td>3453</td>\n",
              "    </tr>\n",
              "    <tr>\n",
              "      <th>Italy Serie A</th>\n",
              "      <td>4528</td>\n",
              "      <td>3367</td>\n",
              "    </tr>\n",
              "    <tr>\n",
              "      <th>Netherlands Eredivisie</th>\n",
              "      <td>4357</td>\n",
              "      <td>3185</td>\n",
              "    </tr>\n",
              "    <tr>\n",
              "      <th>France Ligue 1</th>\n",
              "      <td>4265</td>\n",
              "      <td>3162</td>\n",
              "    </tr>\n",
              "    <tr>\n",
              "      <th>Germany 1. Bundesliga</th>\n",
              "      <td>3982</td>\n",
              "      <td>3121</td>\n",
              "    </tr>\n",
              "    <tr>\n",
              "      <th>Portugal Liga ZON Sagres</th>\n",
              "      <td>2890</td>\n",
              "      <td>2311</td>\n",
              "    </tr>\n",
              "    <tr>\n",
              "      <th>Scotland Premier League</th>\n",
              "      <td>2607</td>\n",
              "      <td>2197</td>\n",
              "    </tr>\n",
              "    <tr>\n",
              "      <th>Belgium Jupiler League</th>\n",
              "      <td>2781</td>\n",
              "      <td>2060</td>\n",
              "    </tr>\n",
              "    <tr>\n",
              "      <th>Poland Ekstraklasa</th>\n",
              "      <td>2678</td>\n",
              "      <td>1978</td>\n",
              "    </tr>\n",
              "    <tr>\n",
              "      <th>Switzerland Super League</th>\n",
              "      <td>2365</td>\n",
              "      <td>1801</td>\n",
              "    </tr>\n",
              "  </tbody>\n",
              "</table>\n",
              "</div>\n",
              "      <button class=\"colab-df-convert\" onclick=\"convertToInteractive('df-056b5c66-11b7-4e54-b216-53734a8fbcf5')\"\n",
              "              title=\"Convert this dataframe to an interactive table.\"\n",
              "              style=\"display:none;\">\n",
              "        \n",
              "  <svg xmlns=\"http://www.w3.org/2000/svg\" height=\"24px\"viewBox=\"0 0 24 24\"\n",
              "       width=\"24px\">\n",
              "    <path d=\"M0 0h24v24H0V0z\" fill=\"none\"/>\n",
              "    <path d=\"M18.56 5.44l.94 2.06.94-2.06 2.06-.94-2.06-.94-.94-2.06-.94 2.06-2.06.94zm-11 1L8.5 8.5l.94-2.06 2.06-.94-2.06-.94L8.5 2.5l-.94 2.06-2.06.94zm10 10l.94 2.06.94-2.06 2.06-.94-2.06-.94-.94-2.06-.94 2.06-2.06.94z\"/><path d=\"M17.41 7.96l-1.37-1.37c-.4-.4-.92-.59-1.43-.59-.52 0-1.04.2-1.43.59L10.3 9.45l-7.72 7.72c-.78.78-.78 2.05 0 2.83L4 21.41c.39.39.9.59 1.41.59.51 0 1.02-.2 1.41-.59l7.78-7.78 2.81-2.81c.8-.78.8-2.07 0-2.86zM5.41 20L4 18.59l7.72-7.72 1.47 1.35L5.41 20z\"/>\n",
              "  </svg>\n",
              "      </button>\n",
              "      \n",
              "  <style>\n",
              "    .colab-df-container {\n",
              "      display:flex;\n",
              "      flex-wrap:wrap;\n",
              "      gap: 12px;\n",
              "    }\n",
              "\n",
              "    .colab-df-convert {\n",
              "      background-color: #E8F0FE;\n",
              "      border: none;\n",
              "      border-radius: 50%;\n",
              "      cursor: pointer;\n",
              "      display: none;\n",
              "      fill: #1967D2;\n",
              "      height: 32px;\n",
              "      padding: 0 0 0 0;\n",
              "      width: 32px;\n",
              "    }\n",
              "\n",
              "    .colab-df-convert:hover {\n",
              "      background-color: #E2EBFA;\n",
              "      box-shadow: 0px 1px 2px rgba(60, 64, 67, 0.3), 0px 1px 3px 1px rgba(60, 64, 67, 0.15);\n",
              "      fill: #174EA6;\n",
              "    }\n",
              "\n",
              "    [theme=dark] .colab-df-convert {\n",
              "      background-color: #3B4455;\n",
              "      fill: #D2E3FC;\n",
              "    }\n",
              "\n",
              "    [theme=dark] .colab-df-convert:hover {\n",
              "      background-color: #434B5C;\n",
              "      box-shadow: 0px 1px 3px 1px rgba(0, 0, 0, 0.15);\n",
              "      filter: drop-shadow(0px 1px 2px rgba(0, 0, 0, 0.3));\n",
              "      fill: #FFFFFF;\n",
              "    }\n",
              "  </style>\n",
              "\n",
              "      <script>\n",
              "        const buttonEl =\n",
              "          document.querySelector('#df-056b5c66-11b7-4e54-b216-53734a8fbcf5 button.colab-df-convert');\n",
              "        buttonEl.style.display =\n",
              "          google.colab.kernel.accessAllowed ? 'block' : 'none';\n",
              "\n",
              "        async function convertToInteractive(key) {\n",
              "          const element = document.querySelector('#df-056b5c66-11b7-4e54-b216-53734a8fbcf5');\n",
              "          const dataTable =\n",
              "            await google.colab.kernel.invokeFunction('convertToInteractive',\n",
              "                                                     [key], {});\n",
              "          if (!dataTable) return;\n",
              "\n",
              "          const docLinkHtml = 'Like what you see? Visit the ' +\n",
              "            '<a target=\"_blank\" href=https://colab.research.google.com/notebooks/data_table.ipynb>data table notebook</a>'\n",
              "            + ' to learn more about interactive tables.';\n",
              "          element.innerHTML = '';\n",
              "          dataTable['output_type'] = 'display_data';\n",
              "          await google.colab.output.renderOutput(dataTable, element);\n",
              "          const docLink = document.createElement('div');\n",
              "          docLink.innerHTML = docLinkHtml;\n",
              "          element.appendChild(docLink);\n",
              "        }\n",
              "      </script>\n",
              "    </div>\n",
              "  </div>\n",
              "  "
            ]
          },
          "metadata": {},
          "execution_count": 73
        }
      ]
    },
    {
      "cell_type": "code",
      "execution_count": 56,
      "metadata": {
        "colab": {
          "base_uri": "https://localhost:8080/",
          "height": 399
        },
        "id": "PLE4wi3W9xtU",
        "outputId": "27b50fa4-13a0-4959-c749-5be93cd52906"
      },
      "outputs": [
        {
          "output_type": "display_data",
          "data": {
            "text/plain": [
              "<Figure size 432x288 with 1 Axes>"
            ],
            "image/png": "[encoded data removed]"
          },
          "metadata": {
            "needs_background": "light"
          }
        }
      ],
      "source": [
        "(match_df.groupby(['league']).sum() / total_goals).plot(kind='bar');"
      ]
    },
    {
      "cell_type": "markdown",
      "source": [
        "England Premier League had more away goals than Spain LIGA BBVA. Meanwhile, Switzerland Super League had the least home and away goals."
      ],
      "metadata": {
        "id": "muE_2YW0N-_j"
      }
    },
    {
      "cell_type": "code",
      "execution_count": 40,
      "metadata": {
        "colab": {
          "base_uri": "https://localhost:8080/",
          "height": 497
        },
        "collapsed": true,
        "id": "nwRLTW790SzL",
        "outputId": "c8d5ef9b-8a1f-4684-d52a-c9b68621dc16"
      },
      "outputs": [
        {
          "output_type": "display_data",
          "data": {
            "text/plain": [
              "<Figure size 1080x576 with 1 Axes>"
            ],
            "image/png": "[encoded data removed]"
          },
          "metadata": {
            "needs_background": "light"
          }
        }
      ],
      "source": [
        "# Home goals against away goals\n",
        "match_df.groupby(['league']).sum().plot(figsize=(15,8));"
      ]
    },
    {
      "cell_type": "markdown",
      "source": [
        "Teams across the leagues score more goals on average at home than away."
      ],
      "metadata": {
        "id": "FISY-7ShOmaf"
      }
    },
    {
      "cell_type": "markdown",
      "source": [
        "### Research Question 5: Which teams have the most win?\n",
        "\n",
        "We create a new feature to find out which teams won the match by comparing home goals scored with away goals scored. The dataset is then grouped using the winning team feature and we plot a bar chart using the number of wins a team possesses.\n"
      ],
      "metadata": {
        "id": "rCkDrPnIjGIo"
      }
    },
    {
      "cell_type": "code",
      "execution_count": 74,
      "metadata": {
        "id": "wUu56gQH_jg3"
      },
      "outputs": [],
      "source": [
        "# Find the winning team \n",
        "conditions = [\n",
        "              match_df['home_goal'] > match_df['away_goal'],\n",
        "              match_df['home_goal'] < match_df['away_goal']\n",
        "]\n",
        "\n",
        "winner = [match_df['home_team'], match_df['away_team']]\n",
        "\n",
        "match_df['winning_team'] = np.select(conditions, winner, default=None)"
      ]
    },
    {
      "cell_type": "code",
      "source": [
        "match_df['winning_team'].value_counts(ascending=False).head(10).plot(kind='bar');"
      ],
      "metadata": {
        "colab": {
          "base_uri": "https://localhost:8080/",
          "height": 350
        },
        "id": "asOX49q_jELy",
        "outputId": "72a7bd27-b733-4c11-812e-d403abd101ca"
      },
      "execution_count": 57,
      "outputs": [
        {
          "output_type": "display_data",
          "data": {
            "text/plain": [
              "<Figure size 432x288 with 1 Axes>"
            ],
            "image/png": "[encoded data removed]"
          },
          "metadata": {
            "needs_background": "light"
          }
        }
      ]
    },
    {
      "cell_type": "markdown",
      "source": [
        "FC Barcelona won the most games over the 8 year period. They are followed by Real Madrid CF, Celtic, FC Bayern Munich, Manchester United, Juventus, SL Benifica, FC Porto, Ajax and FC Basel."
      ],
      "metadata": {
        "id": "oPxOWhxrPIQO"
      }
    },
    {
      "cell_type": "markdown",
      "source": [
        "### Research Question 1: How many teams scored more than 600 goals?\n",
        "\n",
        "The distribution will be plotted in a histogram to have a clear visualization on the goal distribution by teams."
      ],
      "metadata": {
        "id": "1dAF49ikQTu_"
      }
    },
    {
      "cell_type": "code",
      "source": [
        "# Number of unique values\n",
        "match_df.nunique()"
      ],
      "metadata": {
        "colab": {
          "base_uri": "https://localhost:8080/"
        },
        "id": "JjlRgxvHZG-O",
        "outputId": "049ae0fb-4cc7-476a-b9d7-08ccf0d5b641"
      },
      "execution_count": 85,
      "outputs": [
        {
          "output_type": "execute_result",
          "data": {
            "text/plain": [
              "date_match      1694\n",
              "season             8\n",
              "league            11\n",
              "home_team        296\n",
              "away_team        296\n",
              "home_goal         11\n",
              "away_goal         10\n",
              "winning_team     296\n",
              "dtype: int64"
            ]
          },
          "metadata": {},
          "execution_count": 85
        }
      ]
    },
    {
      "cell_type": "code",
      "source": [
        "match_df.groupby('winning_team').sum().sum(axis=1).sort_values(ascending=False).head(15)"
      ],
      "metadata": {
        "colab": {
          "base_uri": "https://localhost:8080/"
        },
        "id": "jplqi-zlYjZw",
        "outputId": "60d76e51-0169-49a7-ee57-6764eefff152"
      },
      "execution_count": 84,
      "outputs": [
        {
          "output_type": "execute_result",
          "data": {
            "text/plain": [
              "winning_team\n",
              "Real Madrid CF         951\n",
              "FC Barcelona           909\n",
              "Celtic                 705\n",
              "FC Bayern Munich       686\n",
              "PSV                    683\n",
              "Ajax                   633\n",
              "FC Basel               630\n",
              "SL Benfica             599\n",
              "Manchester City        598\n",
              "Manchester United      593\n",
              "FC Porto               577\n",
              "Chelsea                566\n",
              "Paris Saint-Germain    557\n",
              "Borussia Dortmund      541\n",
              "Arsenal                532\n",
              "dtype: int64"
            ]
          },
          "metadata": {},
          "execution_count": 84
        }
      ]
    },
    {
      "cell_type": "code",
      "source": [
        "match_df.groupby('winning_team').sum().sum(axis=1).plot(kind='hist', bins=50, figsize=(8,8))\n",
        "plt.title('Goal Distributions')\n",
        "plt.ylabel('Number of teams')\n",
        "plt.xlabel('Number of goal scored');"
      ],
      "metadata": {
        "colab": {
          "base_uri": "https://localhost:8080/",
          "height": 513
        },
        "id": "HkLxc39QDbC-",
        "outputId": "b10e59c0-4adc-46f4-f142-40f5cf55f368"
      },
      "execution_count": 51,
      "outputs": [
        {
          "output_type": "display_data",
          "data": {
            "text/plain": [
              "<Figure size 576x576 with 1 Axes>"
            ],
            "image/png": "[encoded data removed]"
          },
          "metadata": {
            "needs_background": "light"
          }
        }
      ]
    },
    {
      "cell_type": "markdown",
      "source": [
        "**Only a few teams have scored 600 goals or better between 2008 and 2016**"
      ],
      "metadata": {
        "id": "4ngVWiQKI4eA"
      }
    },
    {
      "cell_type": "markdown",
      "metadata": {
        "id": "IvcQoDMH0SzM"
      },
      "source": [
        "<a id='conclusions'></a>\n",
        "## Conclusions\n",
        "\n",
        "Based on the data presented, teams tend to score more goals at home than away, regardless of which league they belong.\n",
        "\n",
        "Player with good long shots, finishing, volleys, shot power, ball control, vision and free kick accuracy are the best penalty takers. \n",
        "\n",
        "Spain LIGA BBVA scored the most goals and home goals, but England Premier League scored the most away goals.\n",
        "\n",
        "8 teams out 296 won 600 or more matches over the period of 2008 and 2016."
      ]
    },
    {
      "cell_type": "code",
      "execution_count": 75,
      "metadata": {
        "collapsed": true,
        "id": "FOaQ4hVz0SzM",
        "colab": {
          "base_uri": "https://localhost:8080/"
        },
        "outputId": "5a82e865-c694-4d5c-92f8-6ee2c3a2178b"
      },
      "outputs": [
        {
          "output_type": "execute_result",
          "data": {
            "text/plain": [
              "255"
            ]
          },
          "metadata": {},
          "execution_count": 75
        }
      ],
      "source": [
        "from subprocess import call\n",
        "call(['python', '-m', 'nbconvert', 'Investigate_a_Dataset.ipynb'])"
      ]
    }
  ],
  "metadata": {
    "colab": {
      "collapsed_sections": [],
      "name": "Investigate_a_Dataset.ipynb",
      "provenance": [],
      "include_colab_link": true
    },
    "kernelspec": {
      "display_name": "Python 3 (ipykernel)",
      "language": "python",
      "name": "python3"
    },
    "language_info": {
      "codemirror_mode": {
        "name": "ipython",
        "version": 3
      },
      "file_extension": ".py",
      "mimetype": "text/x-python",
      "name": "python",
      "nbconvert_exporter": "python",
      "pygments_lexer": "ipython3",
      "version": "3.9.12"
    }
  },
  "nbformat": 4,
  "nbformat_minor": 0
}